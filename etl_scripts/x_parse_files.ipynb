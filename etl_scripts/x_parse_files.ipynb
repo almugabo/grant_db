{
 "cells": [
  {
   "cell_type": "markdown",
   "metadata": {},
   "source": [
    "# a set of scripts to parse the downloaded files\n",
    "\n",
    "The approach here is to load the data in an sqlite database for further processing \n",
    "\n",
    "each dataset has its own structure and need to processed separately. \n"
   ]
  },
  {
   "cell_type": "code",
   "execution_count": 3,
   "metadata": {
    "collapsed": true
   },
   "outputs": [],
   "source": [
    "import pandas as pd \n",
    "import os"
   ]
  },
  {
   "cell_type": "code",
   "execution_count": 4,
   "metadata": {
    "collapsed": true
   },
   "outputs": [],
   "source": [
    "xFld_Path_parsed = '/media/mike/SSD_Data/__data_staging/1000_grant_db/2000_dset_parsed/'\n",
    "\n",
    "xDB = xFld_Path_parsed + 'grant_data_parsed.db'\n",
    "xDBCon = 'sqlite:///' + xDB"
   ]
  },
  {
   "cell_type": "markdown",
   "metadata": {},
   "source": [
    "# Croatian Science Foundation"
   ]
  },
  {
   "cell_type": "code",
   "execution_count": 22,
   "metadata": {
    "collapsed": false
   },
   "outputs": [
    {
     "data": {
      "text/plain": [
       "['hrrzz_2029062017.xlsx']"
      ]
     },
     "execution_count": 22,
     "metadata": {},
     "output_type": "execute_result"
    }
   ],
   "source": [
    "xFld_Path_dset_original = '/media/mike/SSD_Data/__data_staging/1000_grant_db/1000_dset_original/'\n",
    "xFld_Path_set = xFld_Path_dset_original + '3000_HRZZ/'\n",
    "\n",
    "os.listdir(xFld_Path_set)"
   ]
  },
  {
   "cell_type": "code",
   "execution_count": 27,
   "metadata": {
    "collapsed": false
   },
   "outputs": [
    {
     "name": "stdout",
     "output_type": "stream",
     "text": [
      "591\n",
      "--projects\n"
     ]
    }
   ],
   "source": [
    "# projects data\n",
    "x_df1 = pd.read_excel(xFld_Path_set + 'hrrzz_2029062017.xlsx')\n",
    "print len(x_df1)\n",
    "\n",
    "x_df1.to_sql(name = 'hrrzz_projects',\n",
    "             con = xDBCon, \n",
    "             if_exists='replace', \n",
    "             index=True, \n",
    "             index_label='record_id')\n",
    "print 'OK--projects'\n"
   ]
  },
  {
   "cell_type": "code",
   "execution_count": 25,
   "metadata": {
    "collapsed": false
   },
   "outputs": [
    {
     "name": "stdout",
     "output_type": "stream",
     "text": [
      "591\n"
     ]
    }
   ],
   "source": []
  }
 ],
 "metadata": {
  "kernelspec": {
   "display_name": "Python [conda root]",
   "language": "python",
   "name": "conda-root-py"
  },
  "language_info": {
   "codemirror_mode": {
    "name": "ipython",
    "version": 2
   },
   "file_extension": ".py",
   "mimetype": "text/x-python",
   "name": "python",
   "nbconvert_exporter": "python",
   "pygments_lexer": "ipython2",
   "version": "2.7.13"
  }
 },
 "nbformat": 4,
 "nbformat_minor": 2
}
