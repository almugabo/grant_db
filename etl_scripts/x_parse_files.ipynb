{
 "cells": [
  {
   "cell_type": "markdown",
   "metadata": {},
   "source": [
    "# a set of scripts to parse the downloaded files\n",
    "\n",
    "The approach here is to load the data in an sqlite database for further processing \n",
    "\n",
    "each dataset has its own structure and need to processed separately. \n"
   ]
  },
  {
   "cell_type": "code",
   "execution_count": 1,
   "metadata": {
    "collapsed": true
   },
   "outputs": [],
   "source": [
    "import pandas as pd \n",
    "import os"
   ]
  },
  {
   "cell_type": "code",
   "execution_count": 2,
   "metadata": {
    "collapsed": true
   },
   "outputs": [],
   "source": [
    "xFld_Path_parsed = '/media/mike/SSD_Data/__data_staging/1000_grant_db/2000_dset_parsed/'\n",
    "\n",
    "xDB = xFld_Path_parsed + 'grant_data_parsed.db'\n",
    "xDBCon = 'sqlite:///' + xDB"
   ]
  },
  {
   "cell_type": "markdown",
   "metadata": {},
   "source": [
    "# European Union - for now only FP 7 and H2020"
   ]
  },
  {
   "cell_type": "code",
   "execution_count": 5,
   "metadata": {
    "collapsed": false
   },
   "outputs": [
    {
     "data": {
      "text/plain": [
       "['cordisref-FP7programmes.xls',\n",
       " 'cordisref-projectFundingSchemeCategory.xlscordisref-H2020programmes.xls',\n",
       " 'FP1.zip',\n",
       " 'FP2.zip',\n",
       " 'cordis-fp7projects.xlsx',\n",
       " 'cordisfp4projectscomplete.xls',\n",
       " 'cordisref-H2020topics.xls',\n",
       " 'cordisfp4projectsnoobjectives.xls',\n",
       " 'cordis-fp5projects.xlsx',\n",
       " 'cordisref-sicCode.xls',\n",
       " 'cordis-h2020organizations.xlsx',\n",
       " 'cordisref-organizationActivityType.xls',\n",
       " 'FP3.zip',\n",
       " 'cordisref-countries.xls',\n",
       " 'cordisref-FP6programmes.xls',\n",
       " 'cordis-fp6organizations.xlsxcordis-fp6projects.xlsxcordis-fp5organizations.xlsx',\n",
       " 'cordis-fp7briefs.xlsx',\n",
       " 'cordis-h2020projects-xml.zip',\n",
       " 'cordis-fp7organizations.xlsx',\n",
       " 'cordis-fp7projects-xml.zip']"
      ]
     },
     "execution_count": 5,
     "metadata": {},
     "output_type": "execute_result"
    }
   ],
   "source": [
    "xFld_Path_dset_original = '/media/mike/SSD_Data/__data_staging/1000_grant_db/1000_dset_original/'\n",
    "xFld_Path_set = xFld_Path_dset_original + '6000_EU/'\n",
    "\n",
    "os.listdir(xFld_Path_set)"
   ]
  },
  {
   "cell_type": "code",
   "execution_count": 40,
   "metadata": {
    "collapsed": false
   },
   "outputs": [],
   "source": [
    "import xmltodict\n",
    "import json\n",
    "import zipfile\n",
    "\n",
    "def eu_fp7 (xData):\n",
    "    '''\n",
    "     take data from File \n",
    "    '''\n",
    "    xFields_project = ['source', \n",
    "                       'language', \n",
    "                       'availableLanguages', \n",
    "                       'rcn', \n",
    "                       'reference'\n",
    "                       'acronym',\n",
    "                       'teaser', \n",
    "                       'title', \n",
    "                       'objective',\n",
    "                       'totalCost', \n",
    "                       'ecMaxContribution', \n",
    "                       'endDate', \n",
    "                       'startDate', \n",
    "                       'contentCreationDate', \n",
    "                       'contentUpdateDate', \n",
    "                       'lastUpdateDate', \n",
    "                       'contract_startDate',\n",
    "                       'contract_endDate',\n",
    "                       'contract_duration',                       \n",
    "                      ]\n",
    "\n",
    "    xproject_dict = dict.fromkeys(xFields_project)\n",
    "\n",
    "    q1 = xmltodict.parse(xData)\n",
    "    q2 = q1['project'] \n",
    "    \n",
    "    xproject_dict['source']= q2['@xmlns']\n",
    "    xproject_dict['language']= q2['language']\n",
    "    xproject_dict['availableLanguages']= q2['availableLanguages']\n",
    "    xproject_dict['rcn'] = q2['rcn']\n",
    "    xproject_dict['reference'] = q2['reference']\n",
    "    xproject_dict['acronym'] = q2['acronym']\n",
    "    xproject_dict['teaser'] = q2['teaser']    \n",
    "    \n",
    "    xproject_dict['title'] = q2['title']\n",
    "    xproject_dict['objective'] = q2['objective']\n",
    "    xproject_dict['totalCost'] = q2['totalCost'] \n",
    "    xproject_dict['ecMaxContribution'] = q2['ecMaxContribution']\n",
    "    \n",
    "    xproject_dict['endDate'] = q2['startDate']\n",
    "    xproject_dict['startDate'] = q2['endDate']\n",
    "    \n",
    "    xproject_dict['contentCreationDate'] = q2['contentCreationDate']\n",
    "    xproject_dict['contentUpdateDate'] = q2['contentUpdateDate']\n",
    "    xproject_dict['lastUpdateDate']    = q2['lastUpdateDate'] \n",
    "    \n",
    "    xproject_dict['contract_startDate'] = q2['contract']['startDate'] \n",
    "    xproject_dict['contract_endDate'] = q2['contract']['endDate'] \n",
    "    xproject_dict['contract_duration'] = q2['contract']['duration']     \n",
    "    \n",
    "    return xproject_dict \n",
    "    "
   ]
  },
  {
   "cell_type": "code",
   "execution_count": 28,
   "metadata": {
    "collapsed": true
   },
   "outputs": [],
   "source": [
    "xq1 = '/media/mike/MyDataContainer/1000_ScientoMetricData/___Staging/1000_GRANTS/3000_EU_FP/project-rcn-85351_en.xml'"
   ]
  },
  {
   "cell_type": "code",
   "execution_count": 41,
   "metadata": {
    "collapsed": false
   },
   "outputs": [
    {
     "data": {
      "text/plain": [
       "{'acronym': u'MOST',\n",
       " 'availableLanguages': u'en',\n",
       " 'contentCreationDate': u'2007-12-20 00:00:00',\n",
       " 'contentUpdateDate': u'2014-09-09 15:58:25',\n",
       " 'contract_duration': u'39',\n",
       " 'contract_endDate': u'2011-04-30',\n",
       " 'contract_startDate': u'2008-02-01',\n",
       " 'ecMaxContribution': u'3729258.00',\n",
       " 'endDate': u'2008-02-01',\n",
       " 'language': u'en',\n",
       " 'lastUpdateDate': u'2014-09-09 15:58:25',\n",
       " 'objective': u'MOST will improve software engineering by leveraging ontology and reasoning technology. To reach this goal, a seamless integration of ontology technology into model-driven software development (MDSD) will be realized, resulting in ontology-driven software development (ODSD). This concerns the integration of all involved artefacts (ontology and modelling languages, models, tools), as well as the development processes (process and reasoning guidance, traceability of models).\\\\nThe MOST artefact integration technology will allow for managing software development and ontology-based validation and knowledge management in an integrated platform. First, integration will address modelling languages. To be able to query and transform integrated models, a unified view of metamodels must be provided. Second, ontologies and models will be integrated so that ontologies can be used in models, and vice versa. For the first time, MOST will enable integrated model chains, transformations between models either consisting of ontologies or system models. Third, ontology-based queries will be integrated on the level of MDA transformations. Querying will support the developer to fulfil requirements and address modelling decisions. The MOST technology will considerably generalize existing infrastructures, such as the ODM, to address the issues at hand.\\\\nThe MOST ontology-driven, model-aware software process will be guided by process guidance ontologies that formalize the rules, conditions and actions a software engineer has to conduct in specific situations. These ontologies will formalize knowledge about software processes and help their guided execution. To be able to guide software engineers through the development of integrated model chains, traceability information will also be provided for the entire chains. With ODSD, ontology-aware software can be constructed, managed, and maintained, which will be proven by three major industrial case studies.',\n",
       " 'rcn': u'85351',\n",
       " 'reference': u'216691',\n",
       " 'referenceacronym': None,\n",
       " 'source': u'http://cordis.europa.eu',\n",
       " 'startDate': u'2011-04-30',\n",
       " 'teaser': u'MOST will improve software engineering by leveraging ontology and reasoning technology. To reach this goal, a seamless integration of ontology technology into model-driven software development (MDSD) will be realized, resulting in ontology-driven software development (ODSD). ...',\n",
       " 'title': u'Marrying Ontology and Software Technology',\n",
       " 'totalCost': u'5541703.00'}"
      ]
     },
     "execution_count": 41,
     "metadata": {},
     "output_type": "execute_result"
    }
   ],
   "source": [
    "with open(xq1, 'r') as ff:\n",
    "    xData = ff.read()\n",
    "eu_fp7(xData)"
   ]
  },
  {
   "cell_type": "code",
   "execution_count": 64,
   "metadata": {
    "collapsed": true
   },
   "outputs": [],
   "source": [
    "q1 = xmltodict.parse(xData)\n",
    "q2 = q1['project'] \n",
    "xproject_data_relations = {}\n"
   ]
  },
  {
   "cell_type": "code",
   "execution_count": 66,
   "metadata": {
    "collapsed": false
   },
   "outputs": [
    {
     "data": {
      "text/plain": [
       "{'call_rcn': u'85237',\n",
       " 'call_title': u'FP7-ICT-2007-1',\n",
       " 'call_type': u'relatedCall',\n",
       " 'identifier': u'FP7-ICT-2007-1'}"
      ]
     },
     "execution_count": 66,
     "metadata": {},
     "output_type": "execute_result"
    }
   ],
   "source": [
    "# call \n",
    "xproject_data_relations['call_type'] = q2['relations']['associations']['call']['@type']\n",
    "xproject_data_relations['call_rcn'] = q2['relations']['associations']['call']['rcn']\n",
    "xproject_data_relations['call_title'] = q2['relations']['associations']['call']['title']\n",
    "xproject_data_relations['identifier'] = q2['relations']['associations']['call']['identifier']\n",
    "\n",
    "xproject_data_relations"
   ]
  },
  {
   "cell_type": "code",
   "execution_count": null,
   "metadata": {
    "collapsed": true
   },
   "outputs": [],
   "source": [
    "# organisations \n",
    "\n",
    "(u'@order', u'5')\n",
    "(u'@type', u'participant')\n",
    "(u'availableLanguages', u'en')\n",
    "(u'rcn', u'2028180')\n",
    "(u'legalName', u'TECHNISCHE UNIVERSITAET DRESDEN')\n",
    "(u'shortName', u'TUD')\n",
    "(u'address',\n",
    "(u'street', u'HELMHOLTZSTRASSE'),\n",
    "                           (u'city', u'DRESDEN'),\n",
    "                           (u'postalCode', u'01069'),\n",
    "                           (u'country', u'DE'),\n",
    "                           (u'geolocation', u'51.0282096,13.7250027')])),\n",
    "             (u'departmentName', u'European Project Center')\n",
    "    \n",
    "    "
   ]
  },
  {
   "cell_type": "code",
   "execution_count": 70,
   "metadata": {
    "collapsed": false
   },
   "outputs": [
    {
     "data": {
      "text/plain": [
       "OrderedDict([(u'@order', u'5'),\n",
       "             (u'@type', u'participant'),\n",
       "             (u'availableLanguages', u'en'),\n",
       "             (u'rcn', u'2028180'),\n",
       "             (u'legalName', u'TECHNISCHE UNIVERSITAET DRESDEN'),\n",
       "             (u'shortName', u'TUD'),\n",
       "             (u'address',\n",
       "              OrderedDict([(u'street', u'HELMHOLTZSTRASSE'),\n",
       "                           (u'city', u'DRESDEN'),\n",
       "                           (u'postalCode', u'01069'),\n",
       "                           (u'country', u'DE'),\n",
       "                           (u'geolocation', u'51.0282096,13.7250027')])),\n",
       "             (u'departmentName', u'European Project Center'),\n",
       "             (u'relations',\n",
       "              OrderedDict([(u'regions',\n",
       "                            OrderedDict([(u'region',\n",
       "                                          OrderedDict([(u'@type',\n",
       "                                                        u'relatedRegion'),\n",
       "                                                       (u'rcn', u'221940264'),\n",
       "                                                       (u'name',\n",
       "                                                        u'DEUTSCHLAND'),\n",
       "                                                       (u'nutsCode', u'DE'),\n",
       "                                                       (u'euCode', u'DE'),\n",
       "                                                       (u'isoCode', u'DE'),\n",
       "                                                       (u'parents',\n",
       "                                                        OrderedDict([(u'parents',\n",
       "                                                                      [OrderedDict([(u'region',\n",
       "                                                                                     OrderedDict([(u'rcn',\n",
       "                                                                                                   u'4'),\n",
       "                                                                                                  (u'name',\n",
       "                                                                                                   u'World'),\n",
       "                                                                                                  (u'nutsCode',\n",
       "                                                                                                   u'regionWorld'),\n",
       "                                                                                                  (u'euCode',\n",
       "                                                                                                   u'regionWorld'),\n",
       "                                                                                                  (u'isoCode',\n",
       "                                                                                                   u'regionWorld')]))]),\n",
       "                                                                       OrderedDict([(u'region',\n",
       "                                                                                     OrderedDict([(u'rcn',\n",
       "                                                                                                   u'5'),\n",
       "                                                                                                  (u'name',\n",
       "                                                                                                   u'EU Memberstate'),\n",
       "                                                                                                  (u'nutsCode',\n",
       "                                                                                                   u'regionEuMemberstate'),\n",
       "                                                                                                  (u'euCode',\n",
       "                                                                                                   u'regionEuMemberstate'),\n",
       "                                                                                                  (u'isoCode',\n",
       "                                                                                                   u'regionEuMemberstate')]))]),\n",
       "                                                                       OrderedDict([(u'region',\n",
       "                                                                                     OrderedDict([(u'rcn',\n",
       "                                                                                                   u'6'),\n",
       "                                                                                                  (u'name',\n",
       "                                                                                                   u'EU Associated'),\n",
       "                                                                                                  (u'nutsCode',\n",
       "                                                                                                   u'regionEuAssociated'),\n",
       "                                                                                                  (u'euCode',\n",
       "                                                                                                   u'regionEuAssociated'),\n",
       "                                                                                                  (u'isoCode',\n",
       "                                                                                                   u'regionEuAssociated')]))])])]))]))])),\n",
       "                           (u'associations',\n",
       "                            OrderedDict([(u'person',\n",
       "                                          OrderedDict([(u'@context', u'true'),\n",
       "                                                       (u'@type',\n",
       "                                                        u'relatedContact'),\n",
       "                                                       (u'availableLanguages',\n",
       "                                                        u'en'),\n",
       "                                                       (u'rcn', u'2946153'),\n",
       "                                                       (u'firstNames',\n",
       "                                                        u'Christin'),\n",
       "                                                       (u'lastName', u'Jung'),\n",
       "                                                       (u'title', u'Ms.'),\n",
       "                                                       (u'address',\n",
       "                                                        OrderedDict([(u'telephoneNumber',\n",
       "                                                                      u'+49 35146339629'),\n",
       "                                                                     (u'faxNumber',\n",
       "                                                                      u'+49 35146339742'),\n",
       "                                                                     (u'email',\n",
       "                                                                      OrderedDict([(u'@encrypted',\n",
       "                                                                                    u'true'),\n",
       "                                                                                   ('#text',\n",
       "                                                                                    u'cAw/yxyhUqLXdNpAE5qmjVhk/cIJg+urzJjlnjCx6iA=')]))]))]))]))]))])"
      ]
     },
     "execution_count": 70,
     "metadata": {},
     "output_type": "execute_result"
    }
   ],
   "source": [
    "q2['relations']['associations']['organization'][1]"
   ]
  },
  {
   "cell_type": "code",
   "execution_count": 67,
   "metadata": {
    "collapsed": false
   },
   "outputs": [
    {
     "data": {
      "text/plain": [
       "[u'programme',\n",
       " u'result',\n",
       " u'call',\n",
       " u'organization',\n",
       " u'webItem',\n",
       " u'webSite',\n",
       " u'webLink']"
      ]
     },
     "execution_count": 67,
     "metadata": {},
     "output_type": "execute_result"
    }
   ],
   "source": [
    "q2['relations']['associations'].keys()"
   ]
  },
  {
   "cell_type": "code",
   "execution_count": null,
   "metadata": {
    "collapsed": true
   },
   "outputs": [],
   "source": []
  },
  {
   "cell_type": "code",
   "execution_count": null,
   "metadata": {
    "collapsed": true
   },
   "outputs": [],
   "source": []
  },
  {
   "cell_type": "code",
   "execution_count": 61,
   "metadata": {
    "collapsed": false
   },
   "outputs": [
    {
     "data": {
      "text/plain": [
       "[u'@type', u'rcn', u'title', u'identifier']"
      ]
     },
     "execution_count": 61,
     "metadata": {},
     "output_type": "execute_result"
    }
   ],
   "source": [
    "q2['relations']['associations']['call'].keys()"
   ]
  },
  {
   "cell_type": "code",
   "execution_count": 58,
   "metadata": {
    "collapsed": false
   },
   "outputs": [
    {
     "data": {
      "text/plain": [
       "[u'associations', u'categories']"
      ]
     },
     "execution_count": 58,
     "metadata": {},
     "output_type": "execute_result"
    }
   ],
   "source": [
    "q2['relations'].keys()"
   ]
  },
  {
   "cell_type": "code",
   "execution_count": 62,
   "metadata": {
    "collapsed": false
   },
   "outputs": [
    {
     "data": {
      "text/plain": [
       "OrderedDict([(u'@type', u'relatedCall'),\n",
       "             (u'rcn', u'85237'),\n",
       "             (u'title', u'FP7-ICT-2007-1'),\n",
       "             (u'identifier', u'FP7-ICT-2007-1')])"
      ]
     },
     "execution_count": 62,
     "metadata": {},
     "output_type": "execute_result"
    }
   ],
   "source": [
    "q2['relations']['associations']['call']"
   ]
  },
  {
   "cell_type": "code",
   "execution_count": null,
   "metadata": {
    "collapsed": true
   },
   "outputs": [],
   "source": []
  },
  {
   "cell_type": "code",
   "execution_count": 59,
   "metadata": {
    "collapsed": false
   },
   "outputs": [
    {
     "data": {
      "text/plain": [
       "[u'programme',\n",
       " u'result',\n",
       " u'call',\n",
       " u'organization',\n",
       " u'webItem',\n",
       " u'webSite',\n",
       " u'webLink']"
      ]
     },
     "execution_count": 59,
     "metadata": {},
     "output_type": "execute_result"
    }
   ],
   "source": [
    "# program info \n",
    "q2['relations']['associations'].keys()\n"
   ]
  },
  {
   "cell_type": "code",
   "execution_count": 54,
   "metadata": {
    "collapsed": false
   },
   "outputs": [
    {
     "data": {
      "text/plain": [
       "[u'@classification', u'@type', u'availableLanguages', u'code', u'title']"
      ]
     },
     "execution_count": 54,
     "metadata": {},
     "output_type": "execute_result"
    }
   ],
   "source": [
    "q1['project']['relations']['categories']['category'].keys()"
   ]
  },
  {
   "cell_type": "code",
   "execution_count": 55,
   "metadata": {
    "collapsed": false
   },
   "outputs": [
    {
     "data": {
      "text/plain": [
       "[u'programme',\n",
       " u'result',\n",
       " u'call',\n",
       " u'organization',\n",
       " u'webItem',\n",
       " u'webSite',\n",
       " u'webLink']"
      ]
     },
     "execution_count": 55,
     "metadata": {},
     "output_type": "execute_result"
    }
   ],
   "source": [
    "# programmes \n",
    "(q1['project']['relations']['associations']['programme'])\n",
    "\n",
    "q1['project']['relations']['associations'].keys()"
   ]
  },
  {
   "cell_type": "code",
   "execution_count": 56,
   "metadata": {
    "collapsed": false
   },
   "outputs": [
    {
     "data": {
      "text/plain": [
       "OrderedDict([(u'@type', u'relatedCall'),\n",
       "             (u'rcn', u'85237'),\n",
       "             (u'title', u'FP7-ICT-2007-1'),\n",
       "             (u'identifier', u'FP7-ICT-2007-1')])"
      ]
     },
     "execution_count": 56,
     "metadata": {},
     "output_type": "execute_result"
    }
   ],
   "source": []
  },
  {
   "cell_type": "code",
   "execution_count": 44,
   "metadata": {
    "collapsed": false
   },
   "outputs": [
    {
     "name": "stdout",
     "output_type": "stream",
     "text": [
      "project-rcn-100388_en.xml\n",
      "project-rcn-103429_en.xml\n",
      "project-rcn-100225_en.xml\n",
      "project-rcn-101505_en.xml\n",
      "project-rcn-98452_en.xml\n"
     ]
    }
   ],
   "source": [
    "xFile_1 = '/media/mike/MyDataContainer/1000_ScientoMetricData/___Staging/1000_GRANTS/3000_EU_FP/cordis-fp7projects-xml.zip'\n",
    "x = 5\n",
    "i = 0 \n",
    "with zipfile.ZipFile(xFile_1, \"r\") as f:\n",
    "    for name in f.namelist():\n",
    "        i = i +1 \n",
    "        data = f.read(name)\n",
    "        print name\n",
    "        if i == x:\n",
    "            break\n"
   ]
  },
  {
   "cell_type": "code",
   "execution_count": 45,
   "metadata": {
    "collapsed": false
   },
   "outputs": [
    {
     "data": {
      "text/plain": [
       "'<?xml version=\"1.0\" encoding=\"UTF-8\"?>\\r\\n<project xmlns=\"http://cordis.europa.eu\">\\r\\n  \\r\\n  \\r\\n\\t\\r\\n\\t\\r\\n  \\r\\n  <language>en</language>\\r\\n  \\r\\n  \\r\\n\\t\\r\\n  \\r\\n  <availableLanguages>en</availableLanguages>\\r\\n  \\r\\n  \\r\\n\\t\\r\\n  \\r\\n  <rcn>98452</rcn>\\r\\n  \\r\\n  \\r\\n\\t\\r\\n\\t\\r\\n  \\r\\n  <reference>269243</reference>\\r\\n  \\r\\n  \\r\\n\\t\\r\\n\\t\\r\\n  \\r\\n  <acronym>DWBQS</acronym>\\r\\n  \\r\\n  \\r\\n\\t\\r\\n\\t\\r\\n  \\r\\n  <teaser>\"This proposal entitled \\xe2\\x80\\x9cDynamics of Weakly Bound Quantum Systems\\xe2\\x80\\x9d (DWBQS) describes a joint collaborative academic project and exchange scheme between researchers from Norway, Sweden and France as beneficiaries and Argentina and India as participants. The first focus of the ...</teaser>\\r\\n  \\r\\n  \\r\\n\\t\\r\\n\\t\\r\\n  \\r\\n  <objective>\"This proposal entitled \\xe2\\x80\\x9cDynamics of Weakly Bound Quantum Systems\\xe2\\x80\\x9d (DWBQS)  describes a joint collaborative academic project and exchange scheme between researchers from Norway, Sweden and France as beneficiaries and Argentina and India as participants. The first focus of the proposed program is on the theoretical challenges regarding transfer and breakup mechanisms in excited atomic and molecular systems.  We will study breakup and imaging of Rydberg atoms and molecules in laser fields and Rydberg like systems in collisions between ions. The ability to solve the time dependent Schr\\xc3\\xb6dinger equation in this regime results in new insights regarding novel quantum processes involving entangled particles. For interpretation of present and future experiments the need for parallel theory development cannot be overestimated.\\r\\n\\r\\nA second focus will be to develop new understanding for the atomic structure problem in Super Heavy Elements (SHE) based on experience of many body physics in systems like large clusters and quantum dots. The DWBQS group with its new collaborative constellation of theorists and experimentalists, atomic and nuclear physicists, has a background which is well suited to secure the achievement of the proposed goals.\"</objective>\\r\\n  \\r\\n  \\r\\n\\t\\r\\n\\t\\r\\n  \\r\\n  <title>Dynamics of Weakly Bound Quantum Systems</title>\\r\\n  \\r\\n  \\r\\n\\t\\r\\n\\t\\r\\n  \\r\\n  <totalCost>283500</totalCost>\\r\\n  \\r\\n  \\r\\n\\t\\r\\n\\t\\r\\n  \\r\\n  <ecMaxContribution>283500</ecMaxContribution>\\r\\n  \\r\\n  \\r\\n\\t\\r\\n\\t\\r\\n  \\r\\n  <startDate>2011-05-01</startDate>\\r\\n  \\r\\n  \\r\\n\\t\\r\\n\\t\\r\\n  \\r\\n  <endDate>2015-04-30</endDate>\\r\\n  \\r\\n  \\r\\n\\t\\r\\n\\t\\r\\n  \\r\\n  <contract>\\r\\n    \\r\\n    \\r\\n\\t\\t\\r\\n    \\r\\n    <startDate>2011-05-01</startDate>\\r\\n    \\r\\n    \\r\\n\\t\\t\\r\\n    \\r\\n    <endDate>2015-04-30</endDate>\\r\\n    \\r\\n    \\r\\n\\t\\t\\r\\n    \\r\\n    <duration>48</duration>\\r\\n    \\r\\n    \\r\\n\\t\\r\\n  \\r\\n  </contract>\\r\\n  \\r\\n  \\r\\n\\t\\r\\n  \\r\\n  <status>ONG</status>\\r\\n  \\r\\n  \\r\\n\\t\\r\\n\\t\\r\\n  \\r\\n  <statusDetails>Signed Amendment</statusDetails>\\r\\n  \\r\\n  \\r\\n\\t\\r\\n\\t\\r\\n  \\r\\n  <contentCreationDate>2011-03-24 00:00:00</contentCreationDate>\\r\\n  \\r\\n  \\r\\n\\t\\r\\n\\t\\r\\n  \\r\\n  <contentUpdateDate>2015-03-10 15:40:46</contentUpdateDate>\\r\\n  \\r\\n  \\r\\n\\t\\r\\n\\t\\r\\n  \\r\\n  <lastUpdateDate>2015-03-10 15:40:46</lastUpdateDate>\\r\\n  \\r\\n  \\r\\n\\t\\r\\n\\t\\r\\n  \\r\\n  <relations>\\r\\n    \\r\\n    \\r\\n\\t\\t\\r\\n    \\r\\n    <associations>\\r\\n      \\r\\n      \\r\\n\\t\\t\\t\\r\\n      \\r\\n      \\r\\n\\t\\t\\t\\r\\n      \\r\\n      \\r\\n\\t\\t\\t\\r\\n      \\r\\n      \\r\\n\\t\\t\\t\\r\\n      \\r\\n      \\r\\n\\t\\t\\t\\r\\n      \\r\\n      \\r\\n\\t\\t\\t\\r\\n      \\r\\n      \\r\\n\\t\\t\\t\\r\\n      \\r\\n      \\r\\n\\t\\t\\t\\r\\n      \\r\\n      \\r\\n\\t\\t\\t\\r\\n      \\r\\n      \\r\\n\\t\\t\\r\\n    \\r\\n        \\r\\n\\t\\t\\t\\t\\r\\n        \\r\\n      <programme type=\"relatedProgramme\">\\r\\n        \\r\\n          \\r\\n\\t\\t\\t\\t\\t\\r\\n          \\r\\n        <availableLanguages>de,en,es,fr,it</availableLanguages>\\r\\n        \\r\\n          \\r\\n\\t\\t\\t\\t\\t\\r\\n          \\r\\n        <rcn>848</rcn>\\r\\n        \\r\\n          \\r\\n\\t\\t\\t\\t\\t\\r\\n          \\r\\n        <code>FP7-PEOPLE</code>\\r\\n        \\r\\n          \\r\\n\\t\\t\\t\\t\\t\\r\\n          \\r\\n        <pga>FP7-PEOPLE</pga>\\r\\n        \\r\\n          \\r\\n\\t\\t\\t\\t\\t\\r\\n          \\r\\n        <title>Specific programme \\'People\\' implementing the \\'Seventh framework programme\\'</title>\\r\\n        \\r\\n          \\r\\n\\t\\t\\t\\t\\t\\r\\n          \\r\\n        <shortTitle>Specific FP7 programme \\'People\\'</shortTitle>\\r\\n        \\r\\n          \\r\\n\\t\\t\\t\\t\\t\\r\\n          \\r\\n        <url>http://cordis.europa.eu/fp7/people/home_en.html</url>\\r\\n        \\r\\n          \\r\\n\\t\\t\\t\\t\\t\\r\\n          \\r\\n        <parent>\\r\\n          \\r\\n            \\r\\n\\t\\t\\t\\t\\t\\t\\r\\n            \\r\\n          <parent>\\r\\n            \\r\\n              \\r\\n\\t\\t\\t\\t\\t\\t\\t\\r\\n              \\r\\n            <programme>\\r\\n              \\r\\n                \\r\\n\\t\\t\\t\\t\\t\\t\\t\\t\\r\\n                \\r\\n              <rcn>1401</rcn>\\r\\n              \\r\\n                \\r\\n\\t\\t\\t\\t\\t\\t\\t\\t\\r\\n                \\r\\n              <code>EC</code>\\r\\n              \\r\\n                \\r\\n\\t\\t\\t\\t\\t\\t\\t\\t\\r\\n                \\r\\n              <parent>\\r\\n                \\r\\n                  \\r\\n\\t\\t\\t\\t\\t\\t\\t\\t\\t\\r\\n                  \\r\\n                <parent>\\r\\n                  \\r\\n                    \\r\\n\\t\\t\\t\\t\\t\\t\\t\\t\\t\\t\\r\\n                    \\r\\n                  <programme>\\r\\n                    \\r\\n                      \\r\\n\\t\\t\\t\\t\\t\\t\\t\\t\\t\\t\\t\\r\\n                      \\r\\n                    <rcn>837</rcn>\\r\\n                    \\r\\n                      \\r\\n\\t\\t\\t\\t\\t\\t\\t\\t\\t\\t\\t\\r\\n                      \\r\\n                    <code>FP7</code>\\r\\n                    \\r\\n                      \\r\\n\\t\\t\\t\\t\\t\\t\\t\\t\\t\\t\\r\\n                    \\r\\n                  </programme>\\r\\n                  \\r\\n                    \\r\\n\\t\\t\\t\\t\\t\\t\\t\\t\\t\\r\\n                  \\r\\n                </parent>\\r\\n                \\r\\n                  \\r\\n\\t\\t\\t\\t\\t\\t\\t\\t\\r\\n                \\r\\n              </parent>\\r\\n              \\r\\n                \\r\\n\\t\\t\\t\\t\\t\\t\\t\\r\\n              \\r\\n            </programme>\\r\\n            \\r\\n              \\r\\n\\t\\t\\t\\t\\t\\t\\r\\n            \\r\\n          </parent>\\r\\n          \\r\\n            \\r\\n\\t\\t\\t\\t\\t\\r\\n          \\r\\n        </parent>\\r\\n        \\r\\n          \\r\\n\\t\\t\\t\\t\\t\\r\\n          \\r\\n        <relations>\\r\\n          \\r\\n            \\r\\n\\t\\t\\t\\t\\t\\t\\r\\n            \\r\\n          <categories>\\r\\n            \\r\\n              \\r\\n\\t\\t\\t\\t\\t\\t\\t\\r\\n              \\r\\n            <category classification=\"sicCode\" type=\"relatedSicCode\">\\r\\n              \\r\\n                \\r\\n\\t\\t\\t\\t\\t\\t\\t\\t\\r\\n                \\r\\n              <code>SCI</code>\\r\\n              \\r\\n                \\r\\n\\t\\t\\t\\t\\t\\t\\t\\t\\r\\n                \\r\\n              <title>Scientific Research</title>\\r\\n              \\r\\n                \\r\\n\\t\\t\\t\\t\\t\\t\\t\\t\\r\\n                \\r\\n                \\r\\n\\t\\t\\t\\t\\t\\t\\t\\r\\n              \\r\\n            </category>\\r\\n            \\r\\n              \\r\\n\\t\\t\\t\\t\\t\\t\\t\\r\\n              \\r\\n            <category classification=\"sicCode\" type=\"relatedSicCode\">\\r\\n              \\r\\n                \\r\\n\\t\\t\\t\\t\\t\\t\\t\\t\\r\\n                \\r\\n              <code>COO</code>\\r\\n              \\r\\n                \\r\\n\\t\\t\\t\\t\\t\\t\\t\\t\\r\\n                \\r\\n              <title>Coordination and Cooperation</title>\\r\\n              \\r\\n                \\r\\n\\t\\t\\t\\t\\t\\t\\t\\t\\r\\n                \\r\\n                \\r\\n\\t\\t\\t\\t\\t\\t\\t\\r\\n              \\r\\n            </category>\\r\\n            \\r\\n              \\r\\n\\t\\t\\t\\t\\t\\t\\t\\r\\n              \\r\\n            <category classification=\"sicCode\" type=\"relatedSicCode\">\\r\\n              \\r\\n                \\r\\n\\t\\t\\t\\t\\t\\t\\t\\t\\r\\n                \\r\\n              <code>POL</code>\\r\\n              \\r\\n                \\r\\n\\t\\t\\t\\t\\t\\t\\t\\t\\r\\n                \\r\\n              <title>Policies</title>\\r\\n              \\r\\n                \\r\\n\\t\\t\\t\\t\\t\\t\\t\\t\\r\\n                \\r\\n                \\r\\n\\t\\t\\t\\t\\t\\t\\t\\r\\n              \\r\\n            </category>\\r\\n            \\r\\n              \\r\\n\\t\\t\\t\\t\\t\\t\\r\\n            \\r\\n          </categories>\\r\\n          \\r\\n            \\r\\n\\t\\t\\t\\t\\t\\r\\n          \\r\\n        </relations>\\r\\n        \\r\\n          \\r\\n\\t\\t\\t\\t\\r\\n        \\r\\n      </programme>\\r\\n      \\r\\n        \\r\\n\\t\\t\\t\\r\\n      \\r\\n        \\r\\n\\t\\t\\t\\t\\r\\n        \\r\\n      <programme type=\"relatedSubProgramme\">\\r\\n        \\r\\n          \\r\\n\\t\\t\\t\\t\\t\\r\\n          \\r\\n        <availableLanguages>en</availableLanguages>\\r\\n        \\r\\n          \\r\\n\\t\\t\\t\\t\\t\\r\\n          \\r\\n        <rcn>12704</rcn>\\r\\n        \\r\\n          \\r\\n\\t\\t\\t\\t\\t\\r\\n          \\r\\n        <code>FP7-PEOPLE-2010-IRSES</code>\\r\\n        \\r\\n          \\r\\n\\t\\t\\t\\t\\t\\r\\n          \\r\\n        <title>Marie Curie Action \"International Research Staff Exchange Scheme\"</title>\\r\\n        \\r\\n          \\r\\n\\t\\t\\t\\t\\t\\r\\n          \\r\\n        <parent>\\r\\n          \\r\\n            \\r\\n\\t\\t\\t\\t\\t\\t\\r\\n            \\r\\n          <parent>\\r\\n            \\r\\n              \\r\\n\\t\\t\\t\\t\\t\\t\\t\\r\\n              \\r\\n            <programme>\\r\\n              \\r\\n                \\r\\n\\t\\t\\t\\t\\t\\t\\t\\t\\r\\n                \\r\\n              <rcn>10068</rcn>\\r\\n              \\r\\n                \\r\\n\\t\\t\\t\\t\\t\\t\\t\\t\\r\\n                \\r\\n              <code>PEOPLE-4</code>\\r\\n              \\r\\n                \\r\\n\\t\\t\\t\\t\\t\\t\\t\\t\\r\\n                \\r\\n              <parent>\\r\\n                \\r\\n                  \\r\\n\\t\\t\\t\\t\\t\\t\\t\\t\\t\\r\\n                  \\r\\n                <parent>\\r\\n                  \\r\\n                    \\r\\n\\t\\t\\t\\t\\t\\t\\t\\t\\t\\t\\r\\n                    \\r\\n                  <programme>\\r\\n                    \\r\\n                      \\r\\n\\t\\t\\t\\t\\t\\t\\t\\t\\t\\t\\t\\r\\n                      \\r\\n                    <rcn>11419</rcn>\\r\\n                    \\r\\n                      \\r\\n\\t\\t\\t\\t\\t\\t\\t\\t\\t\\t\\t\\r\\n                      \\r\\n                    <code>PEOPLE</code>\\r\\n                    \\r\\n                      \\r\\n\\t\\t\\t\\t\\t\\t\\t\\t\\t\\t\\t\\r\\n                      \\r\\n                    <parent>\\r\\n                      \\r\\n                        \\r\\n\\t\\t\\t\\t\\t\\t\\t\\t\\t\\t\\t\\t\\r\\n                        \\r\\n                      <parent>\\r\\n                        \\r\\n                          \\r\\n\\t\\t\\t\\t\\t\\t\\t\\t\\t\\t\\t\\t\\t\\r\\n                          \\r\\n                        <programme>\\r\\n                          \\r\\n                            \\r\\n\\t\\t\\t\\t\\t\\t\\t\\t\\t\\t\\t\\t\\t\\t\\r\\n                            \\r\\n                          <rcn>848</rcn>\\r\\n                          \\r\\n                            \\r\\n\\t\\t\\t\\t\\t\\t\\t\\t\\t\\t\\t\\t\\t\\t\\r\\n                            \\r\\n                          <code>FP7-PEOPLE</code>\\r\\n                          \\r\\n                            \\r\\n\\t\\t\\t\\t\\t\\t\\t\\t\\t\\t\\t\\t\\t\\t\\r\\n                            \\r\\n                          <parent>\\r\\n                            \\r\\n                              \\r\\n\\t\\t\\t\\t\\t\\t\\t\\t\\t\\t\\t\\t\\t\\t\\t\\r\\n                              \\r\\n                            <parent>\\r\\n                              \\r\\n                                \\r\\n\\t\\t\\t\\t\\t\\t\\t\\t\\t\\t\\t\\t\\t\\t\\t\\t\\r\\n                                \\r\\n                              <programme>\\r\\n                                \\r\\n                                  \\r\\n\\t\\t\\t\\t\\t\\t\\t\\t\\t\\t\\t\\t\\t\\t\\t\\t\\t\\r\\n                                  \\r\\n                                <rcn>1401</rcn>\\r\\n                                \\r\\n                                  \\r\\n\\t\\t\\t\\t\\t\\t\\t\\t\\t\\t\\t\\t\\t\\t\\t\\t\\t\\r\\n                                  \\r\\n                                <code>EC</code>\\r\\n                                \\r\\n                                  \\r\\n\\t\\t\\t\\t\\t\\t\\t\\t\\t\\t\\t\\t\\t\\t\\t\\t\\t\\r\\n                                  \\r\\n                                <parent>\\r\\n                                  \\r\\n                                    \\r\\n\\t\\t\\t\\t\\t\\t\\t\\t\\t\\t\\t\\t\\t\\t\\t\\t\\t\\t\\r\\n                                    \\r\\n                                  <parent>\\r\\n                                    \\r\\n                                      \\r\\n\\t\\t\\t\\t\\t\\t\\t\\t\\t\\t\\t\\t\\t\\t\\t\\t\\t\\t\\t\\r\\n                                      \\r\\n                                    <programme>\\r\\n                                      \\r\\n                                        \\r\\n\\t\\t\\t\\t\\t\\t\\t\\t\\t\\t\\t\\t\\t\\t\\t\\t\\t\\t\\t\\t\\r\\n                                        \\r\\n                                      <rcn>837</rcn>\\r\\n                                      \\r\\n                                        \\r\\n\\t\\t\\t\\t\\t\\t\\t\\t\\t\\t\\t\\t\\t\\t\\t\\t\\t\\t\\t\\t\\r\\n                                        \\r\\n                                      <code>FP7</code>\\r\\n                                      \\r\\n                                        \\r\\n\\t\\t\\t\\t\\t\\t\\t\\t\\t\\t\\t\\t\\t\\t\\t\\t\\t\\t\\t\\r\\n                                      \\r\\n                                    </programme>\\r\\n                                    \\r\\n                                      \\r\\n\\t\\t\\t\\t\\t\\t\\t\\t\\t\\t\\t\\t\\t\\t\\t\\t\\t\\t\\r\\n                                    \\r\\n                                  </parent>\\r\\n                                  \\r\\n                                    \\r\\n\\t\\t\\t\\t\\t\\t\\t\\t\\t\\t\\t\\t\\t\\t\\t\\t\\t\\r\\n                                  \\r\\n                                </parent>\\r\\n                                \\r\\n                                  \\r\\n\\t\\t\\t\\t\\t\\t\\t\\t\\t\\t\\t\\t\\t\\t\\t\\t\\r\\n                                \\r\\n                              </programme>\\r\\n                              \\r\\n                                \\r\\n\\t\\t\\t\\t\\t\\t\\t\\t\\t\\t\\t\\t\\t\\t\\t\\r\\n                              \\r\\n                            </parent>\\r\\n                            \\r\\n                              \\r\\n\\t\\t\\t\\t\\t\\t\\t\\t\\t\\t\\t\\t\\t\\t\\r\\n                            \\r\\n                          </parent>\\r\\n                          \\r\\n                            \\r\\n\\t\\t\\t\\t\\t\\t\\t\\t\\t\\t\\t\\t\\t\\r\\n                          \\r\\n                        </programme>\\r\\n                        \\r\\n                          \\r\\n\\t\\t\\t\\t\\t\\t\\t\\t\\t\\t\\t\\t\\r\\n                        \\r\\n                      </parent>\\r\\n                      \\r\\n                        \\r\\n\\t\\t\\t\\t\\t\\t\\t\\t\\t\\t\\t\\r\\n                      \\r\\n                    </parent>\\r\\n                    \\r\\n                      \\r\\n\\t\\t\\t\\t\\t\\t\\t\\t\\t\\t\\r\\n                    \\r\\n                  </programme>\\r\\n                  \\r\\n                    \\r\\n\\t\\t\\t\\t\\t\\t\\t\\t\\t\\r\\n                  \\r\\n                </parent>\\r\\n                \\r\\n                  \\r\\n\\t\\t\\t\\t\\t\\t\\t\\t\\r\\n                \\r\\n              </parent>\\r\\n              \\r\\n                \\r\\n\\t\\t\\t\\t\\t\\t\\t\\r\\n              \\r\\n            </programme>\\r\\n            \\r\\n              \\r\\n\\t\\t\\t\\t\\t\\t\\r\\n            \\r\\n          </parent>\\r\\n          \\r\\n            \\r\\n\\t\\t\\t\\t\\t\\r\\n          \\r\\n        </parent>\\r\\n        \\r\\n          \\r\\n\\t\\t\\t\\t\\t\\r\\n          \\r\\n        <relations>\\r\\n          \\r\\n            \\r\\n\\t\\t\\t\\t\\t\\t\\r\\n            \\r\\n          <categories>\\r\\n            \\r\\n              \\r\\n\\t\\t\\t\\t\\t\\t\\t\\r\\n              \\r\\n            <category classification=\"sicCode\" type=\"relatedSicCode\">\\r\\n              \\r\\n                \\r\\n\\t\\t\\t\\t\\t\\t\\t\\t\\r\\n                \\r\\n              <code>EMP</code>\\r\\n              \\r\\n                \\r\\n\\t\\t\\t\\t\\t\\t\\t\\t\\r\\n                \\r\\n              <title>Employment issues </title>\\r\\n              \\r\\n                \\r\\n\\t\\t\\t\\t\\t\\t\\t\\t\\r\\n                \\r\\n                \\r\\n\\t\\t\\t\\t\\t\\t\\t\\r\\n              \\r\\n            </category>\\r\\n            \\r\\n              \\r\\n\\t\\t\\t\\t\\t\\t\\t\\r\\n              \\r\\n            <category classification=\"sicCode\" type=\"relatedSicCode\">\\r\\n              \\r\\n                \\r\\n\\t\\t\\t\\t\\t\\t\\t\\t\\r\\n                \\r\\n              <code>SOC</code>\\r\\n              \\r\\n                \\r\\n\\t\\t\\t\\t\\t\\t\\t\\t\\r\\n                \\r\\n              <title>Social Aspects</title>\\r\\n              \\r\\n                \\r\\n\\t\\t\\t\\t\\t\\t\\t\\t\\r\\n                \\r\\n                \\r\\n\\t\\t\\t\\t\\t\\t\\t\\r\\n              \\r\\n            </category>\\r\\n            \\r\\n              \\r\\n\\t\\t\\t\\t\\t\\t\\r\\n            \\r\\n          </categories>\\r\\n          \\r\\n            \\r\\n\\t\\t\\t\\t\\t\\r\\n          \\r\\n        </relations>\\r\\n        \\r\\n          \\r\\n\\t\\t\\t\\t\\r\\n        \\r\\n      </programme>\\r\\n      \\r\\n        \\r\\n\\t\\t\\t\\r\\n      \\r\\n        \\r\\n\\t\\t\\t\\t\\r\\n        \\r\\n      <result type=\"relatedBriefFromProject\">\\r\\n        \\r\\n          \\r\\n\\t\\t\\t\\t\\t\\r\\n          \\r\\n        <availableLanguages>de,en,es,fr,it,pl</availableLanguages>\\r\\n        \\r\\n          \\r\\n\\t\\t\\t\\t\\t\\r\\n          \\r\\n        <rcn>151067</rcn>\\r\\n        \\r\\n          \\r\\n\\t\\t\\t\\t\\t\\r\\n          \\r\\n        <title>Exploring diatomic Rydberg systems</title>\\r\\n        \\r\\n          \\r\\n\\t\\t\\t\\t\\t\\r\\n          \\r\\n        <relations>\\r\\n          \\r\\n            \\r\\n\\t\\t\\t\\t\\t\\t\\r\\n            \\r\\n          <categories>\\r\\n            \\r\\n              \\r\\n\\t\\t\\t\\t\\t\\t\\t\\r\\n              \\r\\n            <category classification=\"resultCategory\" type=\"relatedResultCategory\">\\r\\n              \\r\\n                \\r\\n\\t\\t\\t\\t\\t\\t\\t\\t\\r\\n                \\r\\n              <code>brief</code>\\r\\n              \\r\\n                \\r\\n\\t\\t\\t\\t\\t\\t\\t\\t\\r\\n                \\r\\n              <title>Result in brief</title>\\r\\n              \\r\\n                \\r\\n\\t\\t\\t\\t\\t\\t\\t\\t\\r\\n                \\r\\n                \\r\\n\\t\\t\\t\\t\\t\\t\\t\\r\\n              \\r\\n            </category>\\r\\n            \\r\\n              \\r\\n\\t\\t\\t\\t\\t\\t\\t\\r\\n              \\r\\n            <category classification=\"briefDomain\" type=\"relatedBriefDomain\">\\r\\n              \\r\\n                \\r\\n\\t\\t\\t\\t\\t\\t\\t\\t\\r\\n                \\r\\n              <code>indust</code>\\r\\n              \\r\\n                \\r\\n\\t\\t\\t\\t\\t\\t\\t\\t\\r\\n                \\r\\n              <title>Industrial Technologies</title>\\r\\n              \\r\\n                \\r\\n\\t\\t\\t\\t\\t\\t\\t\\t\\r\\n                \\r\\n                \\r\\n\\t\\t\\t\\t\\t\\t\\t\\r\\n              \\r\\n            </category>\\r\\n            \\r\\n              \\r\\n\\t\\t\\t\\t\\t\\t\\r\\n            \\r\\n          </categories>\\r\\n          \\r\\n            \\r\\n\\t\\t\\t\\t\\t\\r\\n          \\r\\n        </relations>\\r\\n        \\r\\n          \\r\\n\\t\\t\\t\\t\\r\\n        \\r\\n      </result>\\r\\n      \\r\\n        \\r\\n\\t\\t\\t\\r\\n      \\r\\n        \\r\\n\\t\\t\\t\\t\\r\\n        \\r\\n      <result type=\"relatedReportFromProject\">\\r\\n        \\r\\n          \\r\\n\\t\\t\\t\\t\\t\\r\\n          \\r\\n        <availableLanguages>en</availableLanguages>\\r\\n        \\r\\n          \\r\\n\\t\\t\\t\\t\\t\\r\\n          \\r\\n        <rcn>148322</rcn>\\r\\n        \\r\\n          \\r\\n\\t\\t\\t\\t\\t\\r\\n          \\r\\n        <title>Periodic Report Summary 1 - DWBQS (Dynamics of Weakly Bound Quantum Systems)</title>\\r\\n        \\r\\n          \\r\\n\\t\\t\\t\\t\\t\\r\\n          \\r\\n        <relations>\\r\\n          \\r\\n            \\r\\n\\t\\t\\t\\t\\t\\t\\r\\n            \\r\\n          <categories>\\r\\n            \\r\\n              \\r\\n\\t\\t\\t\\t\\t\\t\\t\\r\\n              \\r\\n            <category classification=\"resultCategory\" type=\"relatedResultCategory\">\\r\\n              \\r\\n                \\r\\n\\t\\t\\t\\t\\t\\t\\t\\t\\r\\n                \\r\\n              <code>report</code>\\r\\n              \\r\\n                \\r\\n\\t\\t\\t\\t\\t\\t\\t\\t\\r\\n                \\r\\n              <title>Report summary</title>\\r\\n              \\r\\n                \\r\\n\\t\\t\\t\\t\\t\\t\\t\\t\\r\\n                \\r\\n                \\r\\n\\t\\t\\t\\t\\t\\t\\t\\r\\n              \\r\\n            </category>\\r\\n            \\r\\n              \\r\\n\\t\\t\\t\\t\\t\\t\\t\\r\\n              \\r\\n            <category classification=\"resultReportSource\" type=\"relatedResultReportSource\">\\r\\n              \\r\\n                \\r\\n\\t\\t\\t\\t\\t\\t\\t\\t\\r\\n                \\r\\n              <code>sesam</code>\\r\\n              \\r\\n                \\r\\n\\t\\t\\t\\t\\t\\t\\t\\t\\r\\n                \\r\\n              <title>SESAM</title>\\r\\n              \\r\\n                \\r\\n\\t\\t\\t\\t\\t\\t\\t\\t\\r\\n                \\r\\n                \\r\\n\\t\\t\\t\\t\\t\\t\\t\\r\\n              \\r\\n            </category>\\r\\n            \\r\\n              \\r\\n\\t\\t\\t\\t\\t\\t\\r\\n            \\r\\n          </categories>\\r\\n          \\r\\n            \\r\\n\\t\\t\\t\\t\\t\\r\\n          \\r\\n        </relations>\\r\\n        \\r\\n          \\r\\n\\t\\t\\t\\t\\r\\n        \\r\\n      </result>\\r\\n      \\r\\n        \\r\\n\\t\\t\\t\\r\\n      \\r\\n        \\r\\n\\t\\t\\t\\t\\r\\n        \\r\\n      <result type=\"relatedReportFromProject\">\\r\\n        \\r\\n          \\r\\n\\t\\t\\t\\t\\t\\r\\n          \\r\\n        <availableLanguages>en</availableLanguages>\\r\\n        \\r\\n          \\r\\n\\t\\t\\t\\t\\t\\r\\n          \\r\\n        <rcn>171511</rcn>\\r\\n        \\r\\n          \\r\\n\\t\\t\\t\\t\\t\\r\\n          \\r\\n        <title>Final Report Summary - DWBQS (Dynamics of Weakly Bound Quantum Systems)</title>\\r\\n        \\r\\n          \\r\\n\\t\\t\\t\\t\\t\\r\\n          \\r\\n        <relations>\\r\\n          \\r\\n            \\r\\n\\t\\t\\t\\t\\t\\t\\r\\n            \\r\\n          <categories>\\r\\n            \\r\\n              \\r\\n\\t\\t\\t\\t\\t\\t\\t\\r\\n              \\r\\n            <category classification=\"resultCategory\" type=\"relatedResultCategory\">\\r\\n              \\r\\n                \\r\\n\\t\\t\\t\\t\\t\\t\\t\\t\\r\\n                \\r\\n              <code>report</code>\\r\\n              \\r\\n                \\r\\n\\t\\t\\t\\t\\t\\t\\t\\t\\r\\n                \\r\\n              <title>Report summary</title>\\r\\n              \\r\\n                \\r\\n\\t\\t\\t\\t\\t\\t\\t\\t\\r\\n                \\r\\n                \\r\\n\\t\\t\\t\\t\\t\\t\\t\\r\\n              \\r\\n            </category>\\r\\n            \\r\\n              \\r\\n\\t\\t\\t\\t\\t\\t\\t\\r\\n              \\r\\n            <category classification=\"resultReportSource\" type=\"relatedResultReportSource\">\\r\\n              \\r\\n                \\r\\n\\t\\t\\t\\t\\t\\t\\t\\t\\r\\n                \\r\\n              <code>sesam</code>\\r\\n              \\r\\n                \\r\\n\\t\\t\\t\\t\\t\\t\\t\\t\\r\\n                \\r\\n              <title>SESAM</title>\\r\\n              \\r\\n                \\r\\n\\t\\t\\t\\t\\t\\t\\t\\t\\r\\n                \\r\\n                \\r\\n\\t\\t\\t\\t\\t\\t\\t\\r\\n              \\r\\n            </category>\\r\\n            \\r\\n              \\r\\n\\t\\t\\t\\t\\t\\t\\r\\n            \\r\\n          </categories>\\r\\n          \\r\\n            \\r\\n\\t\\t\\t\\t\\t\\r\\n          \\r\\n        </relations>\\r\\n        \\r\\n          \\r\\n\\t\\t\\t\\t\\r\\n        \\r\\n      </result>\\r\\n      \\r\\n        \\r\\n\\t\\t\\t\\r\\n      \\r\\n        \\r\\n\\t\\t\\t\\t\\r\\n        \\r\\n      <call type=\"relatedCall\">\\r\\n        \\r\\n          \\r\\n\\t\\t\\t\\t\\t\\r\\n          \\r\\n        <rcn>98491</rcn>\\r\\n        \\r\\n          \\r\\n\\t\\t\\t\\t\\t\\r\\n          \\r\\n        <title>FP7-PEOPLE-2010-IRSES</title>\\r\\n        \\r\\n          \\r\\n\\t\\t\\t\\t\\t\\r\\n          \\r\\n        <identifier>FP7-PEOPLE-2010-IRSES</identifier>\\r\\n        \\r\\n          \\r\\n\\t\\t\\t\\t\\r\\n        \\r\\n      </call>\\r\\n      \\r\\n        \\r\\n\\t\\t\\t\\r\\n      \\r\\n        \\r\\n\\t\\t\\t\\t\\r\\n        \\r\\n      <organization order=\"1\" ecContribution=\"136500.0\" terminated=\"false\" type=\"coordinator\">\\r\\n        \\r\\n          \\r\\n\\t\\t\\t\\t\\t\\r\\n          \\r\\n        <availableLanguages>en</availableLanguages>\\r\\n        \\r\\n          \\r\\n\\t\\t\\t\\t\\t\\r\\n          \\r\\n        <rcn>1906559</rcn>\\r\\n        \\r\\n          \\r\\n\\t\\t\\t\\t\\t\\r\\n          \\r\\n        <id>999974456</id>\\r\\n        \\r\\n          \\r\\n\\t\\t\\t\\t\\t\\r\\n          \\r\\n        <legalName>UNIVERSITETET I BERGEN</legalName>\\r\\n        \\r\\n          \\r\\n\\t\\t\\t\\t\\t\\r\\n          \\r\\n        <shortName>UiB</shortName>\\r\\n        \\r\\n          \\r\\n\\t\\t\\t\\t\\t\\r\\n          \\r\\n        <address>\\r\\n          \\r\\n            \\r\\n\\t\\t\\t\\t\\t\\t\\r\\n            \\r\\n          <street>Museplassen 1</street>\\r\\n          \\r\\n            \\r\\n\\t\\t\\t\\t\\t\\t\\r\\n            \\r\\n          <city>BERGEN</city>\\r\\n          \\r\\n            \\r\\n\\t\\t\\t\\t\\t\\t\\r\\n            \\r\\n          <postalCode>5007</postalCode>\\r\\n          \\r\\n            \\r\\n\\t\\t\\t\\t\\t\\t\\r\\n            \\r\\n          <country>NO</country>\\r\\n          \\r\\n            \\r\\n\\t\\t\\t\\t\\t\\t\\r\\n            \\r\\n          <postBox>7800</postBox>\\r\\n          \\r\\n            \\r\\n\\t\\t\\t\\t\\t\\t\\r\\n            \\r\\n          <url>www.uib.no</url>\\r\\n          \\r\\n            \\r\\n\\t\\t\\t\\t\\t\\r\\n          \\r\\n        </address>\\r\\n        \\r\\n          \\r\\n\\t\\t\\t\\t\\t\\r\\n          \\r\\n        <relations>\\r\\n          \\r\\n            \\r\\n\\t\\t\\t\\t\\t\\t\\r\\n            \\r\\n          <regions>\\r\\n            \\r\\n              \\r\\n\\t\\t\\t\\t\\t\\t\\t\\r\\n              \\r\\n              \\r\\n\\t\\t\\t\\t\\t\\t\\r\\n            \\r\\n                \\r\\n\\t\\t\\t\\t\\t\\t\\t\\t\\r\\n                \\r\\n            <region type=\"relatedRegion\">\\r\\n              \\r\\n                  \\r\\n\\t\\t\\t\\t\\t\\t\\t\\t\\t\\r\\n                  \\r\\n              <rcn>392333864</rcn>\\r\\n              \\r\\n                  \\r\\n\\t\\t\\t\\t\\t\\t\\t\\t\\t\\r\\n                  \\r\\n              <name>Norway</name>\\r\\n              \\r\\n                  \\r\\n\\t\\t\\t\\t\\t\\t\\t\\t\\t\\r\\n                  \\r\\n              <nutsCode>NO</nutsCode>\\r\\n              \\r\\n                  \\r\\n\\t\\t\\t\\t\\t\\t\\t\\t\\t\\r\\n                  \\r\\n              <euCode>NO</euCode>\\r\\n              \\r\\n                  \\r\\n\\t\\t\\t\\t\\t\\t\\t\\t\\t\\r\\n                  \\r\\n              <isoCode>NO</isoCode>\\r\\n              \\r\\n                  \\r\\n\\t\\t\\t\\t\\t\\t\\t\\t\\t\\r\\n                  \\r\\n              <parents>\\r\\n                \\r\\n                    \\r\\n\\t\\t\\t\\t\\t\\t\\t\\t\\t\\t\\r\\n                    \\r\\n                <parents>\\r\\n                  \\r\\n                      \\r\\n\\t\\t\\t\\t\\t\\t\\t\\t\\t\\t\\t\\r\\n                      \\r\\n                  <region>\\r\\n                    \\r\\n                        \\r\\n\\t\\t\\t\\t\\t\\t\\t\\t\\t\\t\\t\\t\\r\\n                        \\r\\n                    <rcn>1</rcn>\\r\\n                    \\r\\n                        \\r\\n\\t\\t\\t\\t\\t\\t\\t\\t\\t\\t\\t\\t\\r\\n                        \\r\\n                    <name>European Free Trade Association </name>\\r\\n                    \\r\\n                        \\r\\n\\t\\t\\t\\t\\t\\t\\t\\t\\t\\t\\t\\t\\r\\n                        \\r\\n                    <nutsCode>regionEf</nutsCode>\\r\\n                    \\r\\n                        \\r\\n\\t\\t\\t\\t\\t\\t\\t\\t\\t\\t\\t\\t\\r\\n                        \\r\\n                    <euCode>regionEf</euCode>\\r\\n                    \\r\\n                        \\r\\n\\t\\t\\t\\t\\t\\t\\t\\t\\t\\t\\t\\t\\r\\n                        \\r\\n                    <isoCode>regionEf</isoCode>\\r\\n                    \\r\\n                        \\r\\n\\t\\t\\t\\t\\t\\t\\t\\t\\t\\t\\t\\r\\n                      \\r\\n                  </region>\\r\\n                  \\r\\n                      \\r\\n\\t\\t\\t\\t\\t\\t\\t\\t\\t\\t\\r\\n                    \\r\\n                </parents>\\r\\n                \\r\\n                    \\r\\n\\t\\t\\t\\t\\t\\t\\t\\t\\t\\t\\r\\n                    \\r\\n                <parents>\\r\\n                  \\r\\n                      \\r\\n\\t\\t\\t\\t\\t\\t\\t\\t\\t\\t\\t\\r\\n                      \\r\\n                  <region>\\r\\n                    \\r\\n                        \\r\\n\\t\\t\\t\\t\\t\\t\\t\\t\\t\\t\\t\\t\\r\\n                        \\r\\n                    <rcn>4</rcn>\\r\\n                    \\r\\n                        \\r\\n\\t\\t\\t\\t\\t\\t\\t\\t\\t\\t\\t\\t\\r\\n                        \\r\\n                    <name>World</name>\\r\\n                    \\r\\n                        \\r\\n\\t\\t\\t\\t\\t\\t\\t\\t\\t\\t\\t\\t\\r\\n                        \\r\\n                    <nutsCode>regionWorld</nutsCode>\\r\\n                    \\r\\n                        \\r\\n\\t\\t\\t\\t\\t\\t\\t\\t\\t\\t\\t\\t\\r\\n                        \\r\\n                    <euCode>regionWorld</euCode>\\r\\n                    \\r\\n                        \\r\\n\\t\\t\\t\\t\\t\\t\\t\\t\\t\\t\\t\\t\\r\\n                        \\r\\n                    <isoCode>regionWorld</isoCode>\\r\\n                    \\r\\n                        \\r\\n\\t\\t\\t\\t\\t\\t\\t\\t\\t\\t\\t\\r\\n                      \\r\\n                  </region>\\r\\n                  \\r\\n                      \\r\\n\\t\\t\\t\\t\\t\\t\\t\\t\\t\\t\\r\\n                    \\r\\n                </parents>\\r\\n                \\r\\n                    \\r\\n\\t\\t\\t\\t\\t\\t\\t\\t\\t\\t\\r\\n                    \\r\\n                <parents>\\r\\n                  \\r\\n                      \\r\\n\\t\\t\\t\\t\\t\\t\\t\\t\\t\\t\\t\\r\\n                      \\r\\n                  <region>\\r\\n                    \\r\\n                        \\r\\n\\t\\t\\t\\t\\t\\t\\t\\t\\t\\t\\t\\t\\r\\n                        \\r\\n                    <rcn>6</rcn>\\r\\n                    \\r\\n                        \\r\\n\\t\\t\\t\\t\\t\\t\\t\\t\\t\\t\\t\\t\\r\\n                        \\r\\n                    <name>EU Associated</name>\\r\\n                    \\r\\n                        \\r\\n\\t\\t\\t\\t\\t\\t\\t\\t\\t\\t\\t\\t\\r\\n                        \\r\\n                    <nutsCode>regionEuAssociated</nutsCode>\\r\\n                    \\r\\n                        \\r\\n\\t\\t\\t\\t\\t\\t\\t\\t\\t\\t\\t\\t\\r\\n                        \\r\\n                    <euCode>regionEuAssociated</euCode>\\r\\n                    \\r\\n                        \\r\\n\\t\\t\\t\\t\\t\\t\\t\\t\\t\\t\\t\\t\\r\\n                        \\r\\n                    <isoCode>regionEuAssociated</isoCode>\\r\\n                    \\r\\n                        \\r\\n\\t\\t\\t\\t\\t\\t\\t\\t\\t\\t\\t\\r\\n                      \\r\\n                  </region>\\r\\n                  \\r\\n                      \\r\\n\\t\\t\\t\\t\\t\\t\\t\\t\\t\\t\\r\\n                    \\r\\n                </parents>\\r\\n                \\r\\n                    \\r\\n\\t\\t\\t\\t\\t\\t\\t\\t\\t\\r\\n                  \\r\\n              </parents>\\r\\n              \\r\\n                  \\r\\n\\t\\t\\t\\t\\t\\t\\t\\t\\r\\n                \\r\\n            </region>\\r\\n            \\r\\n                \\r\\n\\t\\t\\t\\t\\t\\t\\t\\r\\n              \\r\\n          </regions>\\r\\n          \\r\\n            \\r\\n\\t\\t\\t\\t\\t\\t\\r\\n            \\r\\n          <associations>\\r\\n            \\r\\n              \\r\\n\\t\\t\\t\\t\\t\\t\\t\\r\\n              \\r\\n              \\r\\n\\t\\t\\t\\t\\t\\t\\r\\n            \\r\\n                \\r\\n\\t\\t\\t\\t\\t\\t\\t\\t\\r\\n                \\r\\n            <person context=\"true\" type=\"relatedContact\">\\r\\n              \\r\\n                  \\r\\n\\t\\t\\t\\t\\t\\t\\t\\t\\t\\r\\n                  \\r\\n              <availableLanguages>en</availableLanguages>\\r\\n              \\r\\n                  \\r\\n\\t\\t\\t\\t\\t\\t\\t\\t\\t\\r\\n                  \\r\\n              <rcn>3084704</rcn>\\r\\n              \\r\\n                  \\r\\n\\t\\t\\t\\t\\t\\t\\t\\t\\t\\r\\n                  \\r\\n              <firstNames>Liv-Grethe</firstNames>\\r\\n              \\r\\n                  \\r\\n\\t\\t\\t\\t\\t\\t\\t\\t\\t\\r\\n                  \\r\\n              <lastName>Gudmundsen</lastName>\\r\\n              \\r\\n                  \\r\\n\\t\\t\\t\\t\\t\\t\\t\\t\\t\\r\\n                  \\r\\n              <title>Ms.</title>\\r\\n              \\r\\n                  \\r\\n\\t\\t\\t\\t\\t\\t\\t\\t\\t\\r\\n                  \\r\\n              <address>\\r\\n                \\r\\n                    \\r\\n\\t\\t\\t\\t\\t\\t\\t\\t\\t\\t\\r\\n                    \\r\\n                <telephoneNumber>+4755584965</telephoneNumber>\\r\\n                \\r\\n                    \\r\\n\\t\\t\\t\\t\\t\\t\\t\\t\\t\\t\\r\\n                    \\r\\n                <faxNumber>+4755584991</faxNumber>\\r\\n                \\r\\n                    \\r\\n\\t\\t\\t\\t\\t\\t\\t\\t\\t\\t\\r\\n                    \\r\\n                <email encrypted=\"true\">Nuu2D6YX3c2SpzlI2UVVPOl0cXq1l6d2SHe4sSzIX6YGPixSjqiVuhx70UXvZsqJ</email>\\r\\n                \\r\\n                    \\r\\n\\t\\t\\t\\t\\t\\t\\t\\t\\t\\r\\n                  \\r\\n              </address>\\r\\n              \\r\\n                  \\r\\n\\t\\t\\t\\t\\t\\t\\t\\t\\r\\n                \\r\\n            </person>\\r\\n            \\r\\n                \\r\\n\\t\\t\\t\\t\\t\\t\\t\\r\\n              \\r\\n          </associations>\\r\\n          \\r\\n            \\r\\n\\t\\t\\t\\t\\t\\t\\r\\n            \\r\\n          <categories>\\r\\n            \\r\\n              \\r\\n\\t\\t\\t\\t\\t\\t\\t\\r\\n              \\r\\n            <category classification=\"organizationActivityType\" type=\"relatedOrganizationActivityType\">\\r\\n              \\r\\n                \\r\\n\\t\\t\\t\\t\\t\\t\\t\\t\\r\\n                \\r\\n              <code>HES</code>\\r\\n              \\r\\n                \\r\\n\\t\\t\\t\\t\\t\\t\\t\\t\\r\\n                \\r\\n              <title>Higher or Secondary Education Establishments</title>\\r\\n              \\r\\n                \\r\\n\\t\\t\\t\\t\\t\\t\\t\\t\\r\\n                \\r\\n                \\r\\n\\t\\t\\t\\t\\t\\t\\t\\r\\n              \\r\\n            </category>\\r\\n            \\r\\n              \\r\\n\\t\\t\\t\\t\\t\\t\\r\\n            \\r\\n          </categories>\\r\\n          \\r\\n            \\r\\n\\t\\t\\t\\t\\t\\r\\n          \\r\\n        </relations>\\r\\n        \\r\\n          \\r\\n\\t\\t\\t\\t\\r\\n        \\r\\n      </organization>\\r\\n      \\r\\n        \\r\\n\\t\\t\\t\\r\\n      \\r\\n        \\r\\n\\t\\t\\t\\t\\r\\n        \\r\\n      <organization order=\"2\" ecContribution=\"86100.0\" terminated=\"false\" type=\"participant\">\\r\\n        \\r\\n          \\r\\n\\t\\t\\t\\t\\t\\r\\n          \\r\\n        <availableLanguages>en</availableLanguages>\\r\\n        \\r\\n          \\r\\n\\t\\t\\t\\t\\t\\r\\n          \\r\\n        <rcn>1907413</rcn>\\r\\n        \\r\\n          \\r\\n\\t\\t\\t\\t\\t\\r\\n          \\r\\n        <id>999986193</id>\\r\\n        \\r\\n          \\r\\n\\t\\t\\t\\t\\t\\r\\n          \\r\\n        <legalName>UNIVERSITE PIERRE ET MARIE CURIE - PARIS 6</legalName>\\r\\n        \\r\\n          \\r\\n\\t\\t\\t\\t\\t\\r\\n          \\r\\n        <shortName>UPMC</shortName>\\r\\n        \\r\\n          \\r\\n\\t\\t\\t\\t\\t\\r\\n          \\r\\n        <address>\\r\\n          \\r\\n            \\r\\n\\t\\t\\t\\t\\t\\t\\r\\n            \\r\\n          <street>Place Jussieu 4</street>\\r\\n          \\r\\n            \\r\\n\\t\\t\\t\\t\\t\\t\\r\\n            \\r\\n          <city>PARIS</city>\\r\\n          \\r\\n            \\r\\n\\t\\t\\t\\t\\t\\t\\r\\n            \\r\\n          <postalCode>75252</postalCode>\\r\\n          \\r\\n            \\r\\n\\t\\t\\t\\t\\t\\t\\r\\n            \\r\\n          <country>FR</country>\\r\\n          \\r\\n            \\r\\n\\t\\t\\t\\t\\t\\t\\r\\n            \\r\\n          <url>www.upmc.fr</url>\\r\\n          \\r\\n            \\r\\n\\t\\t\\t\\t\\t\\r\\n          \\r\\n        </address>\\r\\n        \\r\\n          \\r\\n\\t\\t\\t\\t\\t\\r\\n          \\r\\n        <relations>\\r\\n          \\r\\n            \\r\\n\\t\\t\\t\\t\\t\\t\\r\\n            \\r\\n          <regions>\\r\\n            \\r\\n              \\r\\n\\t\\t\\t\\t\\t\\t\\t\\r\\n              \\r\\n              \\r\\n\\t\\t\\t\\t\\t\\t\\r\\n            \\r\\n                \\r\\n\\t\\t\\t\\t\\t\\t\\t\\t\\r\\n                \\r\\n            <region type=\"relatedRegion\">\\r\\n              \\r\\n                  \\r\\n\\t\\t\\t\\t\\t\\t\\t\\t\\t\\r\\n                  \\r\\n              <rcn>258902568</rcn>\\r\\n              \\r\\n                  \\r\\n\\t\\t\\t\\t\\t\\t\\t\\t\\t\\r\\n                  \\r\\n              <name>France</name>\\r\\n              \\r\\n                  \\r\\n\\t\\t\\t\\t\\t\\t\\t\\t\\t\\r\\n                  \\r\\n              <nutsCode>FR</nutsCode>\\r\\n              \\r\\n                  \\r\\n\\t\\t\\t\\t\\t\\t\\t\\t\\t\\r\\n                  \\r\\n              <euCode>FR</euCode>\\r\\n              \\r\\n                  \\r\\n\\t\\t\\t\\t\\t\\t\\t\\t\\t\\r\\n                  \\r\\n              <isoCode>FR</isoCode>\\r\\n              \\r\\n                  \\r\\n\\t\\t\\t\\t\\t\\t\\t\\t\\t\\r\\n                  \\r\\n              <parents>\\r\\n                \\r\\n                    \\r\\n\\t\\t\\t\\t\\t\\t\\t\\t\\t\\t\\r\\n                    \\r\\n                <parents>\\r\\n                  \\r\\n                      \\r\\n\\t\\t\\t\\t\\t\\t\\t\\t\\t\\t\\t\\r\\n                      \\r\\n                  <region>\\r\\n                    \\r\\n                        \\r\\n\\t\\t\\t\\t\\t\\t\\t\\t\\t\\t\\t\\t\\r\\n                        \\r\\n                    <rcn>4</rcn>\\r\\n                    \\r\\n                        \\r\\n\\t\\t\\t\\t\\t\\t\\t\\t\\t\\t\\t\\t\\r\\n                        \\r\\n                    <name>World</name>\\r\\n                    \\r\\n                        \\r\\n\\t\\t\\t\\t\\t\\t\\t\\t\\t\\t\\t\\t\\r\\n                        \\r\\n                    <nutsCode>regionWorld</nutsCode>\\r\\n                    \\r\\n                        \\r\\n\\t\\t\\t\\t\\t\\t\\t\\t\\t\\t\\t\\t\\r\\n                        \\r\\n                    <euCode>regionWorld</euCode>\\r\\n                    \\r\\n                        \\r\\n\\t\\t\\t\\t\\t\\t\\t\\t\\t\\t\\t\\t\\r\\n                        \\r\\n                    <isoCode>regionWorld</isoCode>\\r\\n                    \\r\\n                        \\r\\n\\t\\t\\t\\t\\t\\t\\t\\t\\t\\t\\t\\r\\n                      \\r\\n                  </region>\\r\\n                  \\r\\n                      \\r\\n\\t\\t\\t\\t\\t\\t\\t\\t\\t\\t\\r\\n                    \\r\\n                </parents>\\r\\n                \\r\\n                    \\r\\n\\t\\t\\t\\t\\t\\t\\t\\t\\t\\t\\r\\n                    \\r\\n                <parents>\\r\\n                  \\r\\n                      \\r\\n\\t\\t\\t\\t\\t\\t\\t\\t\\t\\t\\t\\r\\n                      \\r\\n                  <region>\\r\\n                    \\r\\n                        \\r\\n\\t\\t\\t\\t\\t\\t\\t\\t\\t\\t\\t\\t\\r\\n                        \\r\\n                    <rcn>5</rcn>\\r\\n                    \\r\\n                        \\r\\n\\t\\t\\t\\t\\t\\t\\t\\t\\t\\t\\t\\t\\r\\n                        \\r\\n                    <name>EU Memberstate</name>\\r\\n                    \\r\\n                        \\r\\n\\t\\t\\t\\t\\t\\t\\t\\t\\t\\t\\t\\t\\r\\n                        \\r\\n                    <nutsCode>regionEuMemberstate</nutsCode>\\r\\n                    \\r\\n                        \\r\\n\\t\\t\\t\\t\\t\\t\\t\\t\\t\\t\\t\\t\\r\\n                        \\r\\n                    <euCode>regionEuMemberstate</euCode>\\r\\n                    \\r\\n                        \\r\\n\\t\\t\\t\\t\\t\\t\\t\\t\\t\\t\\t\\t\\r\\n                        \\r\\n                    <isoCode>regionEuMemberstate</isoCode>\\r\\n                    \\r\\n                        \\r\\n\\t\\t\\t\\t\\t\\t\\t\\t\\t\\t\\t\\r\\n                      \\r\\n                  </region>\\r\\n                  \\r\\n                      \\r\\n\\t\\t\\t\\t\\t\\t\\t\\t\\t\\t\\r\\n                    \\r\\n                </parents>\\r\\n                \\r\\n                    \\r\\n\\t\\t\\t\\t\\t\\t\\t\\t\\t\\t\\r\\n                    \\r\\n                <parents>\\r\\n                  \\r\\n                      \\r\\n\\t\\t\\t\\t\\t\\t\\t\\t\\t\\t\\t\\r\\n                      \\r\\n                  <region>\\r\\n                    \\r\\n                        \\r\\n\\t\\t\\t\\t\\t\\t\\t\\t\\t\\t\\t\\t\\r\\n                        \\r\\n                    <rcn>6</rcn>\\r\\n                    \\r\\n                        \\r\\n\\t\\t\\t\\t\\t\\t\\t\\t\\t\\t\\t\\t\\r\\n                        \\r\\n                    <name>EU Associated</name>\\r\\n                    \\r\\n                        \\r\\n\\t\\t\\t\\t\\t\\t\\t\\t\\t\\t\\t\\t\\r\\n                        \\r\\n                    <nutsCode>regionEuAssociated</nutsCode>\\r\\n                    \\r\\n                        \\r\\n\\t\\t\\t\\t\\t\\t\\t\\t\\t\\t\\t\\t\\r\\n                        \\r\\n                    <euCode>regionEuAssociated</euCode>\\r\\n                    \\r\\n                        \\r\\n\\t\\t\\t\\t\\t\\t\\t\\t\\t\\t\\t\\t\\r\\n                        \\r\\n                    <isoCode>regionEuAssociated</isoCode>\\r\\n                    \\r\\n                        \\r\\n\\t\\t\\t\\t\\t\\t\\t\\t\\t\\t\\t\\r\\n                      \\r\\n                  </region>\\r\\n                  \\r\\n                      \\r\\n\\t\\t\\t\\t\\t\\t\\t\\t\\t\\t\\r\\n                    \\r\\n                </parents>\\r\\n                \\r\\n                    \\r\\n\\t\\t\\t\\t\\t\\t\\t\\t\\t\\r\\n                  \\r\\n              </parents>\\r\\n              \\r\\n                  \\r\\n\\t\\t\\t\\t\\t\\t\\t\\t\\r\\n                \\r\\n            </region>\\r\\n            \\r\\n                \\r\\n\\t\\t\\t\\t\\t\\t\\t\\r\\n              \\r\\n          </regions>\\r\\n          \\r\\n            \\r\\n\\t\\t\\t\\t\\t\\t\\r\\n            \\r\\n          <associations>\\r\\n            \\r\\n              \\r\\n\\t\\t\\t\\t\\t\\t\\t\\r\\n              \\r\\n              \\r\\n\\t\\t\\t\\t\\t\\t\\r\\n            \\r\\n                \\r\\n\\t\\t\\t\\t\\t\\t\\t\\t\\r\\n                \\r\\n            <person context=\"true\" type=\"relatedContact\">\\r\\n              \\r\\n                  \\r\\n\\t\\t\\t\\t\\t\\t\\t\\t\\t\\r\\n                  \\r\\n              <availableLanguages>en</availableLanguages>\\r\\n              \\r\\n                  \\r\\n\\t\\t\\t\\t\\t\\t\\t\\t\\t\\r\\n                  \\r\\n              <rcn>3084705</rcn>\\r\\n              \\r\\n                  \\r\\n\\t\\t\\t\\t\\t\\t\\t\\t\\t\\r\\n                  \\r\\n              <firstNames>Ella</firstNames>\\r\\n              \\r\\n                  \\r\\n\\t\\t\\t\\t\\t\\t\\t\\t\\t\\r\\n                  \\r\\n              <lastName>Bouquet</lastName>\\r\\n              \\r\\n                  \\r\\n\\t\\t\\t\\t\\t\\t\\t\\t\\t\\r\\n                  \\r\\n              <title>Ms.</title>\\r\\n              \\r\\n                  \\r\\n\\t\\t\\t\\t\\t\\t\\t\\t\\t\\r\\n                  \\r\\n              <address>\\r\\n                \\r\\n                    \\r\\n\\t\\t\\t\\t\\t\\t\\t\\t\\t\\t\\r\\n                    \\r\\n                <telephoneNumber>+33144279777</telephoneNumber>\\r\\n                \\r\\n                    \\r\\n\\t\\t\\t\\t\\t\\t\\t\\t\\t\\t\\r\\n                    \\r\\n                <faxNumber>+33144277484</faxNumber>\\r\\n                \\r\\n                    \\r\\n\\t\\t\\t\\t\\t\\t\\t\\t\\t\\t\\r\\n                    \\r\\n                <email encrypted=\"true\">LSoqjK5yryFFd8zAWKTivd9kd4V7ZW8ILKVCwZZeeBA=</email>\\r\\n                \\r\\n                    \\r\\n\\t\\t\\t\\t\\t\\t\\t\\t\\t\\r\\n                  \\r\\n              </address>\\r\\n              \\r\\n                  \\r\\n\\t\\t\\t\\t\\t\\t\\t\\t\\r\\n                \\r\\n            </person>\\r\\n            \\r\\n                \\r\\n\\t\\t\\t\\t\\t\\t\\t\\r\\n              \\r\\n          </associations>\\r\\n          \\r\\n            \\r\\n\\t\\t\\t\\t\\t\\t\\r\\n            \\r\\n          <categories>\\r\\n            \\r\\n              \\r\\n\\t\\t\\t\\t\\t\\t\\t\\r\\n              \\r\\n            <category classification=\"organizationActivityType\" type=\"relatedOrganizationActivityType\">\\r\\n              \\r\\n                \\r\\n\\t\\t\\t\\t\\t\\t\\t\\t\\r\\n                \\r\\n              <code>HES</code>\\r\\n              \\r\\n                \\r\\n\\t\\t\\t\\t\\t\\t\\t\\t\\r\\n                \\r\\n              <title>Higher or Secondary Education Establishments</title>\\r\\n              \\r\\n                \\r\\n\\t\\t\\t\\t\\t\\t\\t\\t\\r\\n                \\r\\n                \\r\\n\\t\\t\\t\\t\\t\\t\\t\\r\\n              \\r\\n            </category>\\r\\n            \\r\\n              \\r\\n\\t\\t\\t\\t\\t\\t\\r\\n            \\r\\n          </categories>\\r\\n          \\r\\n            \\r\\n\\t\\t\\t\\t\\t\\r\\n          \\r\\n        </relations>\\r\\n        \\r\\n          \\r\\n\\t\\t\\t\\t\\r\\n        \\r\\n      </organization>\\r\\n      \\r\\n        \\r\\n\\t\\t\\t\\r\\n      \\r\\n        \\r\\n\\t\\t\\t\\t\\r\\n        \\r\\n      <organization order=\"3\" ecContribution=\"60900.0\" terminated=\"false\" type=\"participant\">\\r\\n        \\r\\n          \\r\\n\\t\\t\\t\\t\\t\\r\\n          \\r\\n        <availableLanguages>en</availableLanguages>\\r\\n        \\r\\n          \\r\\n\\t\\t\\t\\t\\t\\r\\n          \\r\\n        <rcn>1906506</rcn>\\r\\n        \\r\\n          \\r\\n\\t\\t\\t\\t\\t\\r\\n          \\r\\n        <id>999885022</id>\\r\\n        \\r\\n          \\r\\n\\t\\t\\t\\t\\t\\r\\n          \\r\\n        <legalName>STOCKHOLMS UNIVERSITET</legalName>\\r\\n        \\r\\n          \\r\\n\\t\\t\\t\\t\\t\\r\\n          \\r\\n        <shortName>SU</shortName>\\r\\n        \\r\\n          \\r\\n\\t\\t\\t\\t\\t\\r\\n          \\r\\n        <address>\\r\\n          \\r\\n            \\r\\n\\t\\t\\t\\t\\t\\t\\r\\n            \\r\\n          <street>Universitetsvaegen 10</street>\\r\\n          \\r\\n            \\r\\n\\t\\t\\t\\t\\t\\t\\r\\n            \\r\\n          <city>STOCKHOLM</city>\\r\\n          \\r\\n            \\r\\n\\t\\t\\t\\t\\t\\t\\r\\n            \\r\\n          <postalCode>10691</postalCode>\\r\\n          \\r\\n            \\r\\n\\t\\t\\t\\t\\t\\t\\r\\n            \\r\\n          <country>SE</country>\\r\\n          \\r\\n            \\r\\n\\t\\t\\t\\t\\t\\t\\r\\n            \\r\\n          <url>www.su.se</url>\\r\\n          \\r\\n            \\r\\n\\t\\t\\t\\t\\t\\r\\n          \\r\\n        </address>\\r\\n        \\r\\n          \\r\\n\\t\\t\\t\\t\\t\\r\\n          \\r\\n        <relations>\\r\\n          \\r\\n            \\r\\n\\t\\t\\t\\t\\t\\t\\r\\n            \\r\\n          <regions>\\r\\n            \\r\\n              \\r\\n\\t\\t\\t\\t\\t\\t\\t\\r\\n              \\r\\n              \\r\\n\\t\\t\\t\\t\\t\\t\\r\\n            \\r\\n                \\r\\n\\t\\t\\t\\t\\t\\t\\t\\t\\r\\n                \\r\\n            <region type=\"relatedRegion\">\\r\\n              \\r\\n                  \\r\\n\\t\\t\\t\\t\\t\\t\\t\\t\\t\\r\\n                  \\r\\n              <rcn>473598504</rcn>\\r\\n              \\r\\n                  \\r\\n\\t\\t\\t\\t\\t\\t\\t\\t\\t\\r\\n                  \\r\\n              <name>Sweden</name>\\r\\n              \\r\\n                  \\r\\n\\t\\t\\t\\t\\t\\t\\t\\t\\t\\r\\n                  \\r\\n              <nutsCode>SE</nutsCode>\\r\\n              \\r\\n                  \\r\\n\\t\\t\\t\\t\\t\\t\\t\\t\\t\\r\\n                  \\r\\n              <euCode>SE</euCode>\\r\\n              \\r\\n                  \\r\\n\\t\\t\\t\\t\\t\\t\\t\\t\\t\\r\\n                  \\r\\n              <isoCode>SE</isoCode>\\r\\n              \\r\\n                  \\r\\n\\t\\t\\t\\t\\t\\t\\t\\t\\t\\r\\n                  \\r\\n              <parents>\\r\\n                \\r\\n                    \\r\\n\\t\\t\\t\\t\\t\\t\\t\\t\\t\\t\\r\\n                    \\r\\n                <parents>\\r\\n                  \\r\\n                      \\r\\n\\t\\t\\t\\t\\t\\t\\t\\t\\t\\t\\t\\r\\n                      \\r\\n                  <region>\\r\\n                    \\r\\n                        \\r\\n\\t\\t\\t\\t\\t\\t\\t\\t\\t\\t\\t\\t\\r\\n                        \\r\\n                    <rcn>4</rcn>\\r\\n                    \\r\\n                        \\r\\n\\t\\t\\t\\t\\t\\t\\t\\t\\t\\t\\t\\t\\r\\n                        \\r\\n                    <name>World</name>\\r\\n                    \\r\\n                        \\r\\n\\t\\t\\t\\t\\t\\t\\t\\t\\t\\t\\t\\t\\r\\n                        \\r\\n                    <nutsCode>regionWorld</nutsCode>\\r\\n                    \\r\\n                        \\r\\n\\t\\t\\t\\t\\t\\t\\t\\t\\t\\t\\t\\t\\r\\n                        \\r\\n                    <euCode>regionWorld</euCode>\\r\\n                    \\r\\n                        \\r\\n\\t\\t\\t\\t\\t\\t\\t\\t\\t\\t\\t\\t\\r\\n                        \\r\\n                    <isoCode>regionWorld</isoCode>\\r\\n                    \\r\\n                        \\r\\n\\t\\t\\t\\t\\t\\t\\t\\t\\t\\t\\t\\r\\n                      \\r\\n                  </region>\\r\\n                  \\r\\n                      \\r\\n\\t\\t\\t\\t\\t\\t\\t\\t\\t\\t\\r\\n                    \\r\\n                </parents>\\r\\n                \\r\\n                    \\r\\n\\t\\t\\t\\t\\t\\t\\t\\t\\t\\t\\r\\n                    \\r\\n                <parents>\\r\\n                  \\r\\n                      \\r\\n\\t\\t\\t\\t\\t\\t\\t\\t\\t\\t\\t\\r\\n                      \\r\\n                  <region>\\r\\n                    \\r\\n                        \\r\\n\\t\\t\\t\\t\\t\\t\\t\\t\\t\\t\\t\\t\\r\\n                        \\r\\n                    <rcn>5</rcn>\\r\\n                    \\r\\n                        \\r\\n\\t\\t\\t\\t\\t\\t\\t\\t\\t\\t\\t\\t\\r\\n                        \\r\\n                    <name>EU Memberstate</name>\\r\\n                    \\r\\n                        \\r\\n\\t\\t\\t\\t\\t\\t\\t\\t\\t\\t\\t\\t\\r\\n                        \\r\\n                    <nutsCode>regionEuMemberstate</nutsCode>\\r\\n                    \\r\\n                        \\r\\n\\t\\t\\t\\t\\t\\t\\t\\t\\t\\t\\t\\t\\r\\n                        \\r\\n                    <euCode>regionEuMemberstate</euCode>\\r\\n                    \\r\\n                        \\r\\n\\t\\t\\t\\t\\t\\t\\t\\t\\t\\t\\t\\t\\r\\n                        \\r\\n                    <isoCode>regionEuMemberstate</isoCode>\\r\\n                    \\r\\n                        \\r\\n\\t\\t\\t\\t\\t\\t\\t\\t\\t\\t\\t\\r\\n                      \\r\\n                  </region>\\r\\n                  \\r\\n                      \\r\\n\\t\\t\\t\\t\\t\\t\\t\\t\\t\\t\\r\\n                    \\r\\n                </parents>\\r\\n                \\r\\n                    \\r\\n\\t\\t\\t\\t\\t\\t\\t\\t\\t\\t\\r\\n                    \\r\\n                <parents>\\r\\n                  \\r\\n                      \\r\\n\\t\\t\\t\\t\\t\\t\\t\\t\\t\\t\\t\\r\\n                      \\r\\n                  <region>\\r\\n                    \\r\\n                        \\r\\n\\t\\t\\t\\t\\t\\t\\t\\t\\t\\t\\t\\t\\r\\n                        \\r\\n                    <rcn>6</rcn>\\r\\n                    \\r\\n                        \\r\\n\\t\\t\\t\\t\\t\\t\\t\\t\\t\\t\\t\\t\\r\\n                        \\r\\n                    <name>EU Associated</name>\\r\\n                    \\r\\n                        \\r\\n\\t\\t\\t\\t\\t\\t\\t\\t\\t\\t\\t\\t\\r\\n                        \\r\\n                    <nutsCode>regionEuAssociated</nutsCode>\\r\\n                    \\r\\n                        \\r\\n\\t\\t\\t\\t\\t\\t\\t\\t\\t\\t\\t\\t\\r\\n                        \\r\\n                    <euCode>regionEuAssociated</euCode>\\r\\n                    \\r\\n                        \\r\\n\\t\\t\\t\\t\\t\\t\\t\\t\\t\\t\\t\\t\\r\\n                        \\r\\n                    <isoCode>regionEuAssociated</isoCode>\\r\\n                    \\r\\n                        \\r\\n\\t\\t\\t\\t\\t\\t\\t\\t\\t\\t\\t\\r\\n                      \\r\\n                  </region>\\r\\n                  \\r\\n                      \\r\\n\\t\\t\\t\\t\\t\\t\\t\\t\\t\\t\\r\\n                    \\r\\n                </parents>\\r\\n                \\r\\n                    \\r\\n\\t\\t\\t\\t\\t\\t\\t\\t\\t\\r\\n                  \\r\\n              </parents>\\r\\n              \\r\\n                  \\r\\n\\t\\t\\t\\t\\t\\t\\t\\t\\r\\n                \\r\\n            </region>\\r\\n            \\r\\n                \\r\\n\\t\\t\\t\\t\\t\\t\\t\\r\\n              \\r\\n          </regions>\\r\\n          \\r\\n            \\r\\n\\t\\t\\t\\t\\t\\t\\r\\n            \\r\\n          <associations>\\r\\n            \\r\\n              \\r\\n\\t\\t\\t\\t\\t\\t\\t\\r\\n              \\r\\n              \\r\\n\\t\\t\\t\\t\\t\\t\\r\\n            \\r\\n                \\r\\n\\t\\t\\t\\t\\t\\t\\t\\t\\r\\n                \\r\\n            <person context=\"true\" type=\"relatedContact\">\\r\\n              \\r\\n                  \\r\\n\\t\\t\\t\\t\\t\\t\\t\\t\\t\\r\\n                  \\r\\n              <availableLanguages>en</availableLanguages>\\r\\n              \\r\\n                  \\r\\n\\t\\t\\t\\t\\t\\t\\t\\t\\t\\r\\n                  \\r\\n              <rcn>3084706</rcn>\\r\\n              \\r\\n                  \\r\\n\\t\\t\\t\\t\\t\\t\\t\\t\\t\\r\\n                  \\r\\n              <firstNames>Berit</firstNames>\\r\\n              \\r\\n                  \\r\\n\\t\\t\\t\\t\\t\\t\\t\\t\\t\\r\\n                  \\r\\n              <lastName>Envall</lastName>\\r\\n              \\r\\n                  \\r\\n\\t\\t\\t\\t\\t\\t\\t\\t\\t\\r\\n                  \\r\\n              <title>Ms.</title>\\r\\n              \\r\\n                  \\r\\n\\t\\t\\t\\t\\t\\t\\t\\t\\t\\r\\n                  \\r\\n              <address>\\r\\n                \\r\\n                    \\r\\n\\t\\t\\t\\t\\t\\t\\t\\t\\t\\t\\r\\n                    \\r\\n                <telephoneNumber>+46855378755</telephoneNumber>\\r\\n                \\r\\n                    \\r\\n\\t\\t\\t\\t\\t\\t\\t\\t\\t\\t\\r\\n                    \\r\\n                <faxNumber>+46 855378601</faxNumber>\\r\\n                \\r\\n                    \\r\\n\\t\\t\\t\\t\\t\\t\\t\\t\\t\\t\\r\\n                    \\r\\n                <email encrypted=\"true\">YpWy4SrCKTnBWmGYV5ds3w==</email>\\r\\n                \\r\\n                    \\r\\n\\t\\t\\t\\t\\t\\t\\t\\t\\t\\r\\n                  \\r\\n              </address>\\r\\n              \\r\\n                  \\r\\n\\t\\t\\t\\t\\t\\t\\t\\t\\r\\n                \\r\\n            </person>\\r\\n            \\r\\n                \\r\\n\\t\\t\\t\\t\\t\\t\\t\\r\\n              \\r\\n          </associations>\\r\\n          \\r\\n            \\r\\n\\t\\t\\t\\t\\t\\t\\r\\n            \\r\\n          <categories>\\r\\n            \\r\\n              \\r\\n\\t\\t\\t\\t\\t\\t\\t\\r\\n              \\r\\n            <category classification=\"organizationActivityType\" type=\"relatedOrganizationActivityType\">\\r\\n              \\r\\n                \\r\\n\\t\\t\\t\\t\\t\\t\\t\\t\\r\\n                \\r\\n              <code>HES</code>\\r\\n              \\r\\n                \\r\\n\\t\\t\\t\\t\\t\\t\\t\\t\\r\\n                \\r\\n              <title>Higher or Secondary Education Establishments</title>\\r\\n              \\r\\n                \\r\\n\\t\\t\\t\\t\\t\\t\\t\\t\\r\\n                \\r\\n                \\r\\n\\t\\t\\t\\t\\t\\t\\t\\r\\n              \\r\\n            </category>\\r\\n            \\r\\n              \\r\\n\\t\\t\\t\\t\\t\\t\\r\\n            \\r\\n          </categories>\\r\\n          \\r\\n            \\r\\n\\t\\t\\t\\t\\t\\r\\n          \\r\\n        </relations>\\r\\n        \\r\\n          \\r\\n\\t\\t\\t\\t\\r\\n        \\r\\n      </organization>\\r\\n      \\r\\n        \\r\\n\\t\\t\\t\\r\\n      \\r\\n    </associations>\\r\\n    \\r\\n    \\r\\n\\t\\t\\r\\n    \\r\\n    <categories>\\r\\n      \\r\\n      \\r\\n\\t\\t\\t\\r\\n      \\r\\n      <category classification=\"projectFundingSchemeCategory\" type=\"relatedProjectFundingSchemeCategory\">\\r\\n        \\r\\n        \\r\\n\\t\\t\\t\\t\\r\\n        \\r\\n        <availableLanguages>en</availableLanguages>\\r\\n        \\r\\n        \\r\\n\\t\\t\\t\\t\\r\\n        \\r\\n        <code>MC-IRSES</code>\\r\\n        \\r\\n        \\r\\n\\t\\t\\t\\t\\r\\n        \\r\\n        <title>International research staff exchange scheme (IRSES)</title>\\r\\n        \\r\\n        \\r\\n\\t\\t\\t\\t\\r\\n        \\r\\n        \\r\\n\\t\\t\\t\\r\\n      \\r\\n      </category>\\r\\n      \\r\\n      \\r\\n\\t\\t\\r\\n    \\r\\n    </categories>\\r\\n    \\r\\n    \\r\\n\\t\\r\\n  \\r\\n  </relations>\\r\\n  \\r\\n  \\r\\n\\t\\r\\n\\r\\n\\r\\n</project>\\r\\n\\r\\n'"
      ]
     },
     "execution_count": 45,
     "metadata": {},
     "output_type": "execute_result"
    }
   ],
   "source": [
    "data "
   ]
  },
  {
   "cell_type": "code",
   "execution_count": 34,
   "metadata": {
    "collapsed": false
   },
   "outputs": [
    {
     "data": {
      "text/plain": [
       "OrderedDict([(u'startDate', u'2008-02-01'),\n",
       "             (u'endDate', u'2011-04-30'),\n",
       "             (u'duration', u'39')])"
      ]
     },
     "execution_count": 34,
     "metadata": {},
     "output_type": "execute_result"
    }
   ],
   "source": [
    "q1['project']['contract']"
   ]
  },
  {
   "cell_type": "code",
   "execution_count": null,
   "metadata": {
    "collapsed": true
   },
   "outputs": [],
   "source": []
  }
 ],
 "metadata": {
  "kernelspec": {
   "display_name": "Python [conda root]",
   "language": "python",
   "name": "conda-root-py"
  },
  "language_info": {
   "codemirror_mode": {
    "name": "ipython",
    "version": 2
   },
   "file_extension": ".py",
   "mimetype": "text/x-python",
   "name": "python",
   "nbconvert_exporter": "python",
   "pygments_lexer": "ipython2",
   "version": "2.7.13"
  }
 },
 "nbformat": 4,
 "nbformat_minor": 2
}
