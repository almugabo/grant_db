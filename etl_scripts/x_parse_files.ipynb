{
 "cells": [
  {
   "cell_type": "markdown",
   "metadata": {},
   "source": [
    "# a set of scripts to parse the downloaded files\n",
    "\n",
    "The approach here is to load the data in an sqlite database for further processing \n",
    "\n",
    "each dataset has its own structure and need to processed separately. \n"
   ]
  },
  {
   "cell_type": "code",
   "execution_count": 1,
   "metadata": {
    "collapsed": true
   },
   "outputs": [],
   "source": [
    "import pandas as pd \n",
    "import os"
   ]
  },
  {
   "cell_type": "code",
   "execution_count": 2,
   "metadata": {
    "collapsed": true
   },
   "outputs": [],
   "source": [
    "xFld_Path_parsed = '/media/mike/SSD_Data/__data_staging/1000_grant_db/2000_dset_parsed/'\n",
    "\n",
    "xDB = xFld_Path_parsed + 'grant_data_parsed.db'\n",
    "xDBCon = 'sqlite:///' + xDB"
   ]
  },
  {
   "cell_type": "markdown",
   "metadata": {},
   "source": [
    "# 1. Australian research council "
   ]
  },
  {
   "cell_type": "code",
   "execution_count": 3,
   "metadata": {
    "collapsed": true
   },
   "outputs": [],
   "source": [
    "xFld_Path_dset_original = '/media/mike/SSD_Data/__data_staging/1000_grant_db/1000_dset_original/'\n",
    "xFld_Path_arc = xFld_Path_dset_original + '1000_ARC/'\n",
    "\n",
    "# os.listdir(xFld_Path_arc)"
   ]
  },
  {
   "cell_type": "code",
   "execution_count": 4,
   "metadata": {
    "collapsed": false
   },
   "outputs": [
    {
     "name": "stdout",
     "output_type": "stream",
     "text": [
      "tables saved \n"
     ]
    }
   ],
   "source": [
    "#projects data\n",
    "\n",
    "# -- completed - projects \n",
    "\n",
    "x_df1 = pd.read_excel(io = xFld_Path_arc + 'ARC_NCGP_Projects_and_fellowships_completed.xlsx', \n",
    "                      sheetname='Projects')\n",
    "x_df1 = x_df1[x_df1.columns[:-4]] # clean headers \n",
    "x_df1.to_sql(name = 'arc_projects_completed',\n",
    "             con = xDBCon, \n",
    "             if_exists='replace', \n",
    "             index=True, \n",
    "             index_label='record_id')\n",
    "\n",
    "# -- completed - fellowships \n",
    "x_df1 = pd.read_excel(io = xFld_Path_arc + 'ARC_NCGP_Projects_and_fellowships_completed.xlsx', \n",
    "                      sheetname='Fellowships')\n",
    "\n",
    "# save \n",
    "x_df1.to_sql(name = 'arc_fellowships_completed',\n",
    "             con = xDBCon, \n",
    "             if_exists='replace', \n",
    "             index=True, \n",
    "             index_label='record_id')\n",
    "\n",
    "# -- on-going - projects \n",
    "x_df1 = pd.read_excel(io = xFld_Path_arc + 'NCGP_Projects_and_fellowship_new_and_ongoing.xlsx', \n",
    "                      sheetname='Projects')\n",
    "\n",
    "x_df1.to_sql(name = 'arc_projects_ongoing',\n",
    "             con = xDBCon, \n",
    "             if_exists='replace', \n",
    "             index=True, \n",
    "             index_label='record_id')\n",
    "\n",
    "\n",
    "# -- on-going - fellowships\n",
    "\n",
    "x_df1 = pd.read_excel(io = xFld_Path_arc + 'NCGP_Projects_and_fellowship_new_and_ongoing.xlsx', \n",
    "                      sheetname='Fellowships')\n",
    "\n",
    "x_df1.to_sql(name = 'arc_fellowships_ongoing',\n",
    "             con = xDBCon, \n",
    "             if_exists='replace', \n",
    "             index=True, \n",
    "             index_label='record_id')\n",
    "\n",
    "print 'tables saved '"
   ]
  },
  {
   "cell_type": "code",
   "execution_count": 5,
   "metadata": {
    "collapsed": false
   },
   "outputs": [
    {
     "name": "stdout",
     "output_type": "stream",
     "text": [
      "tables saved\n"
     ]
    }
   ],
   "source": [
    "# keywords - completed projects \n",
    "\n",
    "x_df1 = pd.read_excel(io = xFld_Path_arc + 'ARC_NCGP_Keywords_completed_Feb2015.xlsx', \n",
    "                      sheetname='Project Keywords')\n",
    "\n",
    "x_df1.to_sql(name = 'arc_projects_keywords_completed',\n",
    "             con = xDBCon, \n",
    "             if_exists='replace', \n",
    "             index=True, \n",
    "             index_label='record_id')\n",
    "\n",
    "\n",
    "# keywords - on going projects \n",
    "\n",
    "x_df1 = pd.read_excel(io = xFld_Path_arc + 'ARC_NCGP_Keywords_new_and_ongoing_Feb2015.xlsx', \n",
    "                      sheetname='Project Keywords')\n",
    "\n",
    "x_df1.to_sql(name = 'arc_projects_keywords_ongoing',\n",
    "             con = xDBCon, \n",
    "             if_exists='replace', \n",
    "             index=True, \n",
    "             index_label='record_id')\n",
    "\n",
    "print 'tables saved'"
   ]
  },
  {
   "cell_type": "code",
   "execution_count": 6,
   "metadata": {
    "collapsed": false
   },
   "outputs": [
    {
     "name": "stdout",
     "output_type": "stream",
     "text": [
      "tables saved\n"
     ]
    }
   ],
   "source": [
    "# fields of research \n",
    "x_df1 = pd.read_excel(io = xFld_Path_arc + 'ARC_NCGP_Field-of-Research_completed.xlsx', \n",
    "                      sheetname='Project Classification')\n",
    "\n",
    "x_df1.to_sql(name = 'arc_field_of_research_completed',\n",
    "             con = xDBCon, \n",
    "             if_exists='replace', \n",
    "             index=True, \n",
    "             index_label='record_id')\n",
    "\n",
    "x_df1 = pd.read_excel(io = xFld_Path_arc + 'ARC_NCGP_FoR_new_and_ongoing.xlsx', \n",
    "                      sheetname='Project Classification')\n",
    "\n",
    "x_df1.to_sql(name = 'arc_field_of_research_on_going',\n",
    "             con = xDBCon, \n",
    "             if_exists='replace', \n",
    "             index=True, \n",
    "             index_label='record_id')\n",
    "\n",
    "print 'tables saved'"
   ]
  },
  {
   "cell_type": "code",
   "execution_count": 7,
   "metadata": {
    "collapsed": false
   },
   "outputs": [
    {
     "name": "stdout",
     "output_type": "stream",
     "text": [
      "tables saved\n"
     ]
    }
   ],
   "source": [
    "# partners\n",
    "\n",
    "x_df1 = pd.read_excel(io = xFld_Path_arc + 'ARC_NCGP_PartnerOrgs.xlsx', \n",
    "                      sheetname='Partner Organisations')\n",
    "\n",
    "x_df1.to_sql(name = 'arc_projects_organisations',\n",
    "             con = xDBCon, \n",
    "             if_exists='replace', \n",
    "             index=True, \n",
    "             index_label='record_id')\n",
    "\n",
    "print 'tables saved'"
   ]
  },
  {
   "cell_type": "code",
   "execution_count": null,
   "metadata": {
    "collapsed": true
   },
   "outputs": [],
   "source": []
  }
 ],
 "metadata": {
  "kernelspec": {
   "display_name": "Python [conda root]",
   "language": "python",
   "name": "conda-root-py"
  },
  "language_info": {
   "codemirror_mode": {
    "name": "ipython",
    "version": 2
   },
   "file_extension": ".py",
   "mimetype": "text/x-python",
   "name": "python",
   "nbconvert_exporter": "python",
   "pygments_lexer": "ipython2",
   "version": "2.7.13"
  }
 },
 "nbformat": 4,
 "nbformat_minor": 2
}
