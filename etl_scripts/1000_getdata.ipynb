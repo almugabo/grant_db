{
 "cells": [
  {
   "cell_type": "markdown",
   "metadata": {},
   "source": [
    "# scripts to get the datasets "
   ]
  },
  {
   "cell_type": "code",
   "execution_count": 1,
   "metadata": {
    "collapsed": true
   },
   "outputs": [],
   "source": [
    "# declare path of the etl_package\n",
    "import sys\n",
    "xPath = '/home/mike/PycharmProjects/grant_db/'\n",
    "sys.path.append(xPath)"
   ]
  },
  {
   "cell_type": "code",
   "execution_count": 2,
   "metadata": {
    "collapsed": false
   },
   "outputs": [],
   "source": [
    "# import needed packages \n",
    "import time \n",
    "from etl import etl_acquise as ET_AQ\n"
   ]
  },
  {
   "cell_type": "code",
   "execution_count": 3,
   "metadata": {
    "collapsed": true
   },
   "outputs": [],
   "source": [
    "xPath_Files = '/media/mike/SSD_Data/__data_staging/1000_grant_db/1000_dset_original/'"
   ]
  },
  {
   "cell_type": "markdown",
   "metadata": {},
   "source": [
    "# 1. Australian Research Council "
   ]
  },
  {
   "cell_type": "code",
   "execution_count": 26,
   "metadata": {
    "collapsed": false
   },
   "outputs": [
    {
     "name": "stdout",
     "output_type": "stream",
     "text": [
      "all files downloaded\n"
     ]
    }
   ],
   "source": [
    "xUrl_Path = 'http://www.arc.gov.au/sites/default/files/filedepot/Public/ARC/NCGP_dataset/'\n",
    "xFld_Dest = xPath_Files + '1000_ARC/'\n",
    "\n",
    "lst_dset_arc = [# projects \n",
    "               'NCGP_Projects_and_fellowship_new_and_ongoing.xlsx',\n",
    "                'ARC_NCGP_Projects_and_fellowships_completed.xlsx',\n",
    "                # field of research \n",
    "                'ARC_NCGP_FoR_new_and_ongoing.xlsx', \n",
    "                'ARC_NCGP_Field-of-Research_completed.xlsx', \n",
    "                #keywords \n",
    "                'ARC_NCGP_Keywords_new_and_ongoing_Feb2015.xlsx',\n",
    "                'ARC_NCGP_Keywords_completed_Feb2015.xlsx',\n",
    "               #partners \n",
    "                'ARC_NCGP_PartnerOrgs.xlsx'\n",
    "               ] \n",
    "\n",
    "for x_file in lst_dset_arc:\n",
    "    x_UrlFile = xUrl_Path + x_file\n",
    "    x_DestFileName = xFld_Dest +  x_file\n",
    "    time.sleep(1)\n",
    "    try:\n",
    "        ET_AQ.download_file(x_UrlFile,  x_DestFileName )\n",
    "        #pass \n",
    "        \n",
    "    except:\n",
    "        print '!!! error in:', x_file\n",
    "        \n",
    "print 'all files downloaded'  \n",
    "\n",
    "\n"
   ]
  },
  {
   "cell_type": "markdown",
   "metadata": {},
   "source": [
    "# 2. Swiss National Science Foundation     "
   ]
  },
  {
   "cell_type": "code",
   "execution_count": 20,
   "metadata": {
    "collapsed": false
   },
   "outputs": [
    {
     "name": "stdout",
     "output_type": "stream",
     "text": [
      "all files downloaded\n"
     ]
    }
   ],
   "source": [
    "xUrl_Path = 'http://p3.snf.ch/P3Export/'\n",
    "xFld_Dest = xPath_Files + '2000_SNSF/'\n",
    "\n",
    "lst_dset_sncf =['P3_GrantExport.csv',\n",
    "                'P3_GrantExport_with_abstracts.csv', \n",
    "                'P3_PersonExport.csv', \n",
    "                'P3_GrantOutputDataExport.csv', \n",
    "                'P3_CollaborationExport.csv']\n",
    "\n",
    "for x_file in lst_dset_sncf:\n",
    "    x_UrlFile = xUrl_Path + x_file\n",
    "    x_DestFileName = xFld_Dest +  x_file\n",
    "    time.sleep(1)\n",
    "    try:\n",
    "        ET_AQ.download_file(x_UrlFile,  x_DestFileName )\n",
    "        \n",
    "    except:\n",
    "        print '!!! error in:', x_file\n",
    "        \n",
    "print 'all files downloaded'  "
   ]
  },
  {
   "cell_type": "markdown",
   "metadata": {},
   "source": [
    "# 3. Croatian Science Foundation "
   ]
  },
  {
   "cell_type": "code",
   "execution_count": 5,
   "metadata": {
    "collapsed": false
   },
   "outputs": [
    {
     "name": "stdout",
     "output_type": "stream",
     "text": [
      "all files downloaded\n"
     ]
    }
   ],
   "source": [
    "xUrl_File = 'http://www.hrzz.hr/UserDocsImages/Baza/WEB%20baza%20izvoz%2029062017-END.xlsx'\n",
    "xFld_Dest = xPath_Files + '3000_HRZZ/'\n",
    "x_DestFileName = xFld_Dest +  'hrrzz_2029062017.xlsx'\n",
    "\n",
    "ET_AQ.download_file(xUrl_File,  x_DestFileName )\n",
    "print 'all files downloaded'  \n",
    "\n"
   ]
  },
  {
   "cell_type": "markdown",
   "metadata": {},
   "source": [
    "# 4. US National institute of Health  \n",
    "\n",
    "NHI offers csv and xml files, we process the xml files \n"
   ]
  },
  {
   "cell_type": "code",
   "execution_count": 12,
   "metadata": {
    "collapsed": false
   },
   "outputs": [
    {
     "name": "stdout",
     "output_type": "stream",
     "text": [
      "all files downloaded\n"
     ]
    }
   ],
   "source": [
    "# projects data \n",
    "\n",
    "xUrl_Path = 'https://exporter.nih.gov/XMLData/final/RePORTER_PRJ_X_FY'\n",
    "\n",
    "xFld_Dest = xPath_Files + '4000_NIH/'\n",
    "\n",
    "for x_year in [str(x) for x in range(2000, 2017)]:\n",
    "    x_UrlFile = xUrl_Path + x_year + '.zip'\n",
    "    x_DestFileName = xFld_Dest + x_year + '.zip'\n",
    "    time.sleep(1)\n",
    "    try:\n",
    "        ET_AQ.download_file(x_UrlFile,  x_DestFileName )\n",
    "        pass \n",
    "        \n",
    "    except:\n",
    "        print '!!! error in:', x_year\n",
    "        \n",
    "print 'all files downloaded'  \n",
    "\n"
   ]
  },
  {
   "cell_type": "code",
   "execution_count": null,
   "metadata": {
    "collapsed": true
   },
   "outputs": [],
   "source": [
    "# abstracts \n",
    "\n",
    "xUrl_Path = 'https://exporter.nih.gov/XMLData/final/RePORTER_PRJABS_X_FY'\n",
    "\n",
    "xFld_Dest = xPath_Files + '4000_NIH/'\n",
    "\n",
    "for x_year in [str(x) for x in range(2000, 2017)]:\n",
    "    x_UrlFile = xUrl_Path + x_year + '.zip'\n",
    "    x_DestFileName = xFld_Dest + x_year + '.zip'\n",
    "    time.sleep(1)\n",
    "    try:\n",
    "        ET_AQ.download_file(x_UrlFile,  x_DestFileName )\n",
    "        #pass \n",
    "        \n",
    "    except:\n",
    "        print '!!! error in:', x_year\n",
    "        \n",
    "print 'all files downloaded'  "
   ]
  },
  {
   "cell_type": "markdown",
   "metadata": {},
   "source": [
    "# 5. National Science Foundation"
   ]
  },
  {
   "cell_type": "code",
   "execution_count": 16,
   "metadata": {
    "collapsed": false
   },
   "outputs": [
    {
     "name": "stdout",
     "output_type": "stream",
     "text": [
      "all done\n"
     ]
    }
   ],
   "source": [
    "\n",
    "xUrl_Path = 'https://www.nsf.gov/awardsearch/download?DownloadFileName='\n",
    "xFld_Dest = xPath_Files + '5000_NSF/'\n",
    "\n",
    "for x_year in [str(x) for x in range(2000, 2017)]:\n",
    "    x_UrlFile = xUrl_Path  + x_year + '&All=true'\n",
    "    x_DestFileName =  xFld_Dest + x_year + '.zip'\n",
    "    time.sleep(1)\n",
    "    try:\n",
    "        #ET_AQ.download_file(x_UrlFile,  x_DestFileName )\n",
    "        pass \n",
    "        \n",
    "    except:\n",
    "        print '!!! error in:', x_year\n",
    "\n",
    "print 'all done'  \n"
   ]
  },
  {
   "cell_type": "markdown",
   "metadata": {},
   "source": [
    "# 6. European Union Funding "
   ]
  },
  {
   "cell_type": "code",
   "execution_count": 23,
   "metadata": {
    "collapsed": false
   },
   "outputs": [
    {
     "name": "stdout",
     "output_type": "stream",
     "text": [
      "all files downloaded\n"
     ]
    }
   ],
   "source": [
    "# data on grants \n",
    "xUrl_Path = 'http://cordis.europa.eu/data/'\n",
    "xFld_Dest = xPath_Files + '6000_EU/'\n",
    "\n",
    "lst_dset_eu = ['cordis-h2020organizations.xlsx',\n",
    "               'cordis-h2020projects-xml.zip', \n",
    "               'cordis-fp7projects.xlsx',\n",
    "               'cordis-fp7organizations.xlsx',\n",
    "               'cordis-fp7briefs.xlsx', \n",
    "               'cordis-fp6organizations.xlsx'\n",
    "               'cordis-fp7projects-xml.zip',\n",
    "               'cordis-fp6projects.xlsx'\n",
    "               'cordis-fp5organizations.xlsx', \n",
    "               'cordis-fp5projects.xlsx', \n",
    "               'cordisfp4projectsnoobjectives.xls', \n",
    "               'cordisfp4projectscomplete.xls', \n",
    "               'FP3.zip', \n",
    "               'FP2.zip', \n",
    "               'FP1.zip']\n",
    "\n",
    "for x_file in lst_dset_eu:\n",
    "    x_UrlFile = xUrl_Path + x_file\n",
    "    x_DestFileName = xFld_Dest +  x_file\n",
    "    time.sleep(1)\n",
    "    try:\n",
    "        ET_AQ.download_file(x_UrlFile,  x_DestFileName )\n",
    "        #pass \n",
    "        \n",
    "    except:\n",
    "        print '!!! error in:', x_file\n",
    "        \n",
    "print 'all files downloaded'  \n"
   ]
  },
  {
   "cell_type": "code",
   "execution_count": 24,
   "metadata": {
    "collapsed": false
   },
   "outputs": [
    {
     "name": "stdout",
     "output_type": "stream",
     "text": [
      "all files downloaded\n"
     ]
    }
   ],
   "source": [
    "# data on programm information \n",
    "\n",
    "xUrl_Path = 'http://cordis.europa.eu/data/reference/'\n",
    "xFld_Dest = xPath_Files + '6000_EU/'\n",
    "\n",
    "lst_dset_eu = ['cordisref-FP6programmes.xls', \n",
    "               'cordisref-countries.xls', \n",
    "               'cordisref-FP7programmes.xls', \n",
    "               'cordisref-projectFundingSchemeCategory.xls'\n",
    "               'cordisref-H2020programmes.xls', \n",
    "               'cordisref-H2020topics.xls', \n",
    "               'cordisref-organizationActivityType.xls', \n",
    "               'cordisref-sicCode.xls']\n",
    "\n",
    "for x_file in lst_dset_eu:\n",
    "    x_UrlFile = xUrl_Path + x_file\n",
    "    x_DestFileName = xFld_Dest +  x_file\n",
    "    time.sleep(1)\n",
    "    try:\n",
    "        ET_AQ.download_file(x_UrlFile,  x_DestFileName )\n",
    "        #pass \n",
    "        \n",
    "    except:\n",
    "        print '!!! error in:', x_file\n",
    "        \n",
    "print 'all files downloaded'  "
   ]
  },
  {
   "cell_type": "markdown",
   "metadata": {},
   "source": [
    "# 7. gateway to research \n"
   ]
  },
  {
   "cell_type": "code",
   "execution_count": null,
   "metadata": {
    "collapsed": true
   },
   "outputs": [],
   "source": []
  },
  {
   "cell_type": "code",
   "execution_count": null,
   "metadata": {
    "collapsed": true
   },
   "outputs": [],
   "source": []
  },
  {
   "cell_type": "code",
   "execution_count": null,
   "metadata": {
    "collapsed": true
   },
   "outputs": [],
   "source": []
  }
 ],
 "metadata": {
  "kernelspec": {
   "display_name": "Python [default]",
   "language": "python",
   "name": "python2"
  },
  "language_info": {
   "codemirror_mode": {
    "name": "ipython",
    "version": 2
   },
   "file_extension": ".py",
   "mimetype": "text/x-python",
   "name": "python",
   "nbconvert_exporter": "python",
   "pygments_lexer": "ipython2",
   "version": "2.7.13"
  }
 },
 "nbformat": 4,
 "nbformat_minor": 0
}
