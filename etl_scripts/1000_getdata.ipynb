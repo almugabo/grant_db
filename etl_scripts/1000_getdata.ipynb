{
 "cells": [
  {
   "cell_type": "markdown",
   "metadata": {},
   "source": [
    "# scripts to get the datasets "
   ]
  },
  {
   "cell_type": "code",
   "execution_count": 1,
   "metadata": {
    "collapsed": true
   },
   "outputs": [],
   "source": [
    "# declare path of the etl_package\n",
    "import sys\n",
    "xPath = '/home/mike/PycharmProjects/grant_db/'\n",
    "sys.path.append(xPath)"
   ]
  },
  {
   "cell_type": "code",
   "execution_count": 2,
   "metadata": {
    "collapsed": false
   },
   "outputs": [],
   "source": [
    "# import needed packages \n",
    "import time \n",
    "from etl import etl_acquise as ET_AQ\n"
   ]
  },
  {
   "cell_type": "code",
   "execution_count": 7,
   "metadata": {
    "collapsed": true
   },
   "outputs": [],
   "source": [
    "#xPath_Files = '/media/mike/SSD_Data/__data_staging/1000_grant_db/1000_dset_original/'\n",
    "xPath_Files = '/media/mike/MyDataContainer/1000_ScientoMetricData/___Staging/1000_GRANTS/1000_dset_original/'"
   ]
  },
  {
   "cell_type": "markdown",
   "metadata": {},
   "source": [
    "# 1. Australian Research Council "
   ]
  },
  {
   "cell_type": "code",
   "execution_count": null,
   "metadata": {
    "collapsed": false
   },
   "outputs": [],
   "source": [
    "xUrl_Path = 'http://www.arc.gov.au/sites/default/files/filedepot/Public/ARC/NCGP_dataset/'\n",
    "xFld_Dest = xPath_Files + '1000_ARC/'\n",
    "\n",
    "lst_dset_arc = [# projects \n",
    "               'NCGP_Projects_and_fellowship_new_and_ongoing.xlsx',\n",
    "                'ARC_NCGP_Projects_and_fellowships_completed.xlsx',\n",
    "                # field of research \n",
    "                'ARC_NCGP_FoR_new_and_ongoing.xlsx', \n",
    "                'ARC_NCGP_Field-of-Research_completed.xlsx', \n",
    "                #keywords \n",
    "                'ARC_NCGP_Keywords_new_and_ongoing_Feb2015.xlsx',\n",
    "                'ARC_NCGP_Keywords_completed_Feb2015.xlsx',\n",
    "               #partners \n",
    "                'ARC_NCGP_PartnerOrgs.xlsx'\n",
    "               ] \n",
    "\n",
    "for x_file in lst_dset_arc:\n",
    "    x_UrlFile = xUrl_Path + x_file\n",
    "    x_DestFileName = xFld_Dest +  x_file\n",
    "    time.sleep(1)\n",
    "    try:\n",
    "        ET_AQ.download_file(x_UrlFile,  x_DestFileName )\n",
    "        #pass \n",
    "        \n",
    "    except:\n",
    "        print '!!! error in:', x_file\n",
    "        \n",
    "print 'all files downloaded'  \n",
    "\n",
    "\n"
   ]
  },
  {
   "cell_type": "markdown",
   "metadata": {},
   "source": [
    "# 2. Swiss National Science Foundation     "
   ]
  },
  {
   "cell_type": "code",
   "execution_count": null,
   "metadata": {
    "collapsed": false
   },
   "outputs": [],
   "source": [
    "xUrl_Path = 'http://p3.snf.ch/P3Export/'\n",
    "xFld_Dest = xPath_Files + '2000_SNSF/'\n",
    "\n",
    "lst_dset_sncf =['P3_GrantExport.csv',\n",
    "                'P3_GrantExport_with_abstracts.csv', \n",
    "                'P3_PersonExport.csv', \n",
    "                'P3_GrantOutputDataExport.csv', \n",
    "                'P3_CollaborationExport.csv']\n",
    "\n",
    "for x_file in lst_dset_sncf:\n",
    "    x_UrlFile = xUrl_Path + x_file\n",
    "    x_DestFileName = xFld_Dest +  x_file\n",
    "    time.sleep(1)\n",
    "    try:\n",
    "        ET_AQ.download_file(x_UrlFile,  x_DestFileName )\n",
    "        \n",
    "    except:\n",
    "        print '!!! error in:', x_file\n",
    "        \n",
    "print 'all files downloaded'  "
   ]
  },
  {
   "cell_type": "markdown",
   "metadata": {},
   "source": [
    "# 3. Croatian Science Foundation "
   ]
  },
  {
   "cell_type": "code",
   "execution_count": null,
   "metadata": {
    "collapsed": false
   },
   "outputs": [],
   "source": [
    "xUrl_File = 'http://www.hrzz.hr/UserDocsImages/Baza/WEB%20baza%20izvoz%2029062017-END.xlsx'\n",
    "xFld_Dest = xPath_Files + '3000_HRZZ/'\n",
    "x_DestFileName = xFld_Dest +  'hrrzz_2029062017.xlsx'\n",
    "\n",
    "ET_AQ.download_file(xUrl_File,  x_DestFileName )\n",
    "print 'all files downloaded'  \n",
    "\n"
   ]
  },
  {
   "cell_type": "markdown",
   "metadata": {},
   "source": [
    "# 4. US National institute of Health  \n",
    "\n",
    "NHI offers csv and xml files, we process the csv files\n"
   ]
  },
  {
   "cell_type": "code",
   "execution_count": null,
   "metadata": {
    "collapsed": false
   },
   "outputs": [],
   "source": [
    "# projects data \n",
    "\n",
    "xUrl_Path = 'https://exporter.nih.gov/CSVs/final/RePORTER_PRJ_X_FY'\n",
    "\n",
    "xFld_Dest = xPath_Files + '4000_NIH/'\n",
    "\n",
    "for x_year in [str(x) for x in range(2000, 2017)]:\n",
    "    x_UrlFile = xUrl_Path + x_year + '.zip'\n",
    "    x_DestFileName = xFld_Dest + x_year + '.zip'\n",
    "    time.sleep(1)\n",
    "    try:\n",
    "        ET_AQ.download_file(x_UrlFile,  x_DestFileName )\n",
    "        pass \n",
    "        \n",
    "    except:\n",
    "        print '!!! error in:', x_year\n",
    "        \n",
    "print 'all files downloaded'  \n",
    "\n"
   ]
  },
  {
   "cell_type": "code",
   "execution_count": null,
   "metadata": {
    "collapsed": true
   },
   "outputs": [],
   "source": [
    "# abstracts \n",
    "\n",
    "xUrl_Path = 'https://exporter.nih.gov/XMLData/final/RePORTER_PRJABS_X_FY'\n",
    "\n",
    "xFld_Dest = xPath_Files + '4000_NIH/'\n",
    "\n",
    "for x_year in [str(x) for x in range(2000, 2017)]:\n",
    "    x_UrlFile = xUrl_Path + x_year + '.zip'\n",
    "    x_DestFileName = xFld_Dest + x_year + '.zip'\n",
    "    time.sleep(1)\n",
    "    try:\n",
    "        ET_AQ.download_file(x_UrlFile,  x_DestFileName )\n",
    "        #pass \n",
    "        \n",
    "    except:\n",
    "        print '!!! error in:', x_year\n",
    "        \n",
    "print 'all files downloaded'  "
   ]
  },
  {
   "cell_type": "markdown",
   "metadata": {},
   "source": [
    "# 5. National Science Foundation"
   ]
  },
  {
   "cell_type": "code",
   "execution_count": null,
   "metadata": {
    "collapsed": false
   },
   "outputs": [],
   "source": [
    "\n",
    "xUrl_Path = 'https://www.nsf.gov/awardsearch/download?DownloadFileName='\n",
    "xFld_Dest = xPath_Files + '5000_NSF/'\n",
    "\n",
    "for x_year in [str(x) for x in range(2000, 2017)]:\n",
    "    x_UrlFile = xUrl_Path  + x_year + '&All=true'\n",
    "    x_DestFileName =  xFld_Dest + x_year + '.zip'\n",
    "    time.sleep(1)\n",
    "    try:\n",
    "        #ET_AQ.download_file(x_UrlFile,  x_DestFileName )\n",
    "        pass \n",
    "        \n",
    "    except:\n",
    "        print '!!! error in:', x_year\n",
    "\n",
    "print 'all done'  \n"
   ]
  },
  {
   "cell_type": "markdown",
   "metadata": {},
   "source": [
    "# 6. European Union Funding "
   ]
  },
  {
   "cell_type": "code",
   "execution_count": null,
   "metadata": {
    "collapsed": false
   },
   "outputs": [],
   "source": [
    "# data on grants \n",
    "xUrl_Path = 'http://cordis.europa.eu/data/'\n",
    "xFld_Dest = xPath_Files + '6000_EU/'\n",
    "\n",
    "lst_dset_eu = ['cordis-h2020organizations.xlsx',\n",
    "               'cordis-h2020projects-xml.zip', \n",
    "               'cordis-fp7projects.xlsx',\n",
    "               'cordis-fp7organizations.xlsx',\n",
    "               'cordis-fp7briefs.xlsx', \n",
    "               'cordis-fp6organizations.xlsx'\n",
    "               'cordis-fp7projects-xml.zip',\n",
    "               'cordis-fp6projects.xlsx'\n",
    "               'cordis-fp5organizations.xlsx', \n",
    "               'cordis-fp5projects.xlsx', \n",
    "               'cordisfp4projectsnoobjectives.xls', \n",
    "               'cordisfp4projectscomplete.xls', \n",
    "               'FP3.zip', \n",
    "               'FP2.zip', \n",
    "               'FP1.zip']\n",
    "\n",
    "for x_file in lst_dset_eu:\n",
    "    x_UrlFile = xUrl_Path + x_file\n",
    "    x_DestFileName = xFld_Dest +  x_file\n",
    "    time.sleep(1)\n",
    "    try:\n",
    "        ET_AQ.download_file(x_UrlFile,  x_DestFileName )\n",
    "        #pass \n",
    "        \n",
    "    except:\n",
    "        print '!!! error in:', x_file\n",
    "        \n",
    "print 'all files downloaded'  \n"
   ]
  },
  {
   "cell_type": "code",
   "execution_count": null,
   "metadata": {
    "collapsed": false
   },
   "outputs": [],
   "source": [
    "# data on programm information \n",
    "\n",
    "xUrl_Path = 'http://cordis.europa.eu/data/reference/'\n",
    "xFld_Dest = xPath_Files + '6000_EU/'\n",
    "\n",
    "lst_dset_eu = ['cordisref-FP6programmes.xls', \n",
    "               'cordisref-countries.xls', \n",
    "               'cordisref-FP7programmes.xls', \n",
    "               'cordisref-projectFundingSchemeCategory.xls'\n",
    "               'cordisref-H2020programmes.xls', \n",
    "               'cordisref-H2020topics.xls', \n",
    "               'cordisref-organizationActivityType.xls', \n",
    "               'cordisref-sicCode.xls']\n",
    "\n",
    "for x_file in lst_dset_eu:\n",
    "    x_UrlFile = xUrl_Path + x_file\n",
    "    x_DestFileName = xFld_Dest +  x_file\n",
    "    time.sleep(1)\n",
    "    try:\n",
    "        ET_AQ.download_file(x_UrlFile,  x_DestFileName )\n",
    "        #pass \n",
    "        \n",
    "    except:\n",
    "        print '!!! error in:', x_file\n",
    "        \n",
    "print 'all files downloaded'  "
   ]
  },
  {
   "cell_type": "markdown",
   "metadata": {},
   "source": [
    "# 7. GRIST API "
   ]
  },
  {
   "cell_type": "code",
   "execution_count": null,
   "metadata": {
    "collapsed": true
   },
   "outputs": [],
   "source": [
    "#Names of fundrs \n",
    "xFunders_1 = '''Action on Hearing Loss\thttp://dx.doi.org/10.13039/501100000703\n",
    "Alzheimer's Society\thttp://dx.doi.org/10.13039/501100000320\n",
    "Arthritis Research UK\thttp://dx.doi.org/10.13039/501100000341\n",
    "Austrian Science Fund FWF\thttp://dx.doi.org/10.13039/501100002428\n",
    "Biotechnology and Biological Sciences Research Council\thttp://dx.doi.org/10.13039/501100000268\n",
    "Bloodwise\thttp://dx.doi.org/10.13039/501100000651\n",
    "Breast Cancer Now\thttp://dx.doi.org/10.13039/100009794\n",
    "British Heart Foundation\thttp://dx.doi.org/10.13039/501100000274\n",
    "Cancer Research UK\thttp://dx.doi.org/10.13039/501100000289\n",
    "Chief Scientist Office\thttp://dx.doi.org/10.13039/501100000589\n",
    "Diabetes UK\thttp://dx.doi.org/10.13039/501100000361\n",
    "European Research Council\thttp://dx.doi.org/10.13039/501100000781\n",
    "Marie Curie\thttp://dx.doi.org/10.13039/501100000654\n",
    "Medical Research Council\thttp://dx.doi.org/10.13039/501100000265\n",
    "Motor Neurone Disease Association\thttp://dx.doi.org/10.13039/501100000406\n",
    "Multiple Sclerosis Society\thttp://dx.doi.org/10.13039/501100000381\n",
    "Myrovlytis Trust\thttp://dx.doi.org/10.13039/501100001291\n",
    "National Centre for the Replacement, Refinement and Reduction of Animals in Research\thttp://dx.doi.org/10.13039/501100000849\n",
    "National Institute for Health Research (Department of Health)\thttp://dx.doi.org/10.13039/501100000272\n",
    "Parkinson's UK\thttp://dx.doi.org/10.13039/501100000304\n",
    "Prostate Cancer UK\thttp://dx.doi.org/10.13039/501100000771\n",
    "The Academy of Medical Sciences\thttp://dx.doi.org/10.13039/501100000691\n",
    "The Dunhill Medical Trust\thttp://dx.doi.org/10.13039/501100000377\n",
    "Wellcome Trust\thttp://dx.doi.org/10.13039/100004440\n",
    "World Health Organization\thttp://dx.doi.org/10.13039/100004423\n",
    "Worldwide Cancer Research\thttp://dx.doi.org/10.13039/501100000391\n",
    "'''\n",
    "\n",
    "xRes = []\n",
    "for xLine in xFunders_1.splitlines():\n",
    "    xDict = {}\n",
    "    xData = xLine.split('\\t')\n",
    "    xDict['funder_name'] = xData[0]\n",
    "    xDict['funder_id'] = xData[1]    \n",
    "    xRes.append(xDict)\n",
    "df1 = pd.DataFrame(xRes)\n",
    "#df1.head()\n",
    "\n",
    "print len(df1)"
   ]
  },
  {
   "cell_type": "code",
   "execution_count": null,
   "metadata": {
    "collapsed": true
   },
   "outputs": [],
   "source": [
    "# create directories \n",
    "import os\n",
    "x_ids = [x.split('/')[4] for x in list(df1.funder_id)]\n",
    "\n",
    "xFld_1 = '/media/mike/MyDataContainer/1000_ScientoMetricData/___Staging/2000_GRIST/'\n",
    "for x_id in x_ids:\n",
    "    xFld_2 = xFld_1 + x_id\n",
    "    if not os.path.exists(xFld_2):\n",
    "        os.makedirs(xFld_2)\n",
    "print 'done'"
   ]
  },
  {
   "cell_type": "code",
   "execution_count": null,
   "metadata": {
    "collapsed": true
   },
   "outputs": [],
   "source": [
    "# get data \n",
    "x_ids = [x.split('/')[4] for x in list(df1.funder_id)]\n",
    "\n",
    "xFld_1 = '/media/mike/MyDataContainer/1000_ScientoMetricData/___Staging/2000_GRIST/'\n",
    "for x_id in x_ids:\n",
    "    xFld_2 = xFld_1 + x_id + '/'\n",
    "    time.sleep(2)\n",
    "    try:\n",
    "        get_save_grant_record(x_id, xFld_2)\n",
    "\n",
    "    except:\n",
    "        print 'error in ', x_id\n",
    "print 'all done'"
   ]
  },
  {
   "cell_type": "markdown",
   "metadata": {},
   "source": [
    "# 8. gateway to research "
   ]
  },
  {
   "cell_type": "code",
   "execution_count": 9,
   "metadata": {
    "collapsed": true
   },
   "outputs": [],
   "source": [
    "xFld_GTR   = xPath_Files + '8000_GatewayResearch/'"
   ]
  },
  {
   "cell_type": "code",
   "execution_count": null,
   "metadata": {
    "collapsed": true
   },
   "outputs": [],
   "source": [
    "#xFld_Dest = xFld_GTR  + '100_projects'\n",
    "#xFld_Dest = xFld_GTR  + '200_orgs' \n",
    "#xFld_Dest = xFld_GTR  + '300_persons' \n",
    "#xFld_Dest = xFld_GTR  + '500_ipr'\n",
    "#xFld_Dest = xFld_GTR  + '400_publications'"
   ]
  },
  {
   "cell_type": "code",
   "execution_count": 10,
   "metadata": {
    "collapsed": false
   },
   "outputs": [
    {
     "name": "stdout",
     "output_type": "stream",
     "text": [
      "starting IPR Wed Jan 10 09:39:39 2018\n",
      "\n",
      "ipr done Wed Jan 10 09:40:18 2018\n"
     ]
    }
   ],
   "source": [
    "# IPR \n",
    "print 'starting IPR', time.ctime()\n",
    "xFld_Dest = xFld_GTR  + '500_ipr/'\n",
    "ET_AQ.gtr_get_data(xDestFolder = xFld_Dest, entities='ipr')\n",
    "print 'ipr done', time.ctime()\n",
    "\n"
   ]
  }
 ],
 "metadata": {
  "kernelspec": {
   "display_name": "Python [default]",
   "language": "python",
   "name": "python2"
  },
  "language_info": {
   "codemirror_mode": {
    "name": "ipython",
    "version": 2
   },
   "file_extension": ".py",
   "mimetype": "text/x-python",
   "name": "python",
   "nbconvert_exporter": "python",
   "pygments_lexer": "ipython2",
   "version": "2.7.13"
  }
 },
 "nbformat": 4,
 "nbformat_minor": 0
}
